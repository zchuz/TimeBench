{
 "cells": [
  {
   "cell_type": "code",
   "execution_count": 2,
   "metadata": {},
   "outputs": [],
   "source": [
    "import sys\n",
    "import json\n",
    "import numpy as np\n",
    "import random\n",
    "import time\n",
    "import re\n",
    "sys.path.append('../utils/')\n",
    "from utils import gpt_decoder, load_json, load_jsonl\n",
    "def write(fp, line):\n",
    "    with open(fp, 'a', encoding='utf-8') as f:\n",
    "        f.write(json.dumps(line) + '\\n')"
   ]
  },
  {
   "cell_type": "code",
   "execution_count": 3,
   "metadata": {},
   "outputs": [],
   "source": [
    "torque_datas = load_jsonl('./torque_timebench.jsonl')"
   ]
  },
  {
   "cell_type": "code",
   "execution_count": 6,
   "metadata": {},
   "outputs": [
    {
     "data": {
      "text/plain": [
       "{'docid': 'docid_AFP_ENG_19970402.0459_sentid_1',\n",
       " 'answer': ['said', 'expected', 'opened', 'rallied'],\n",
       " 'passage': 'In Frankfurt, meanwhile, most economists said that the central council of the Bundesbank was expected to hold its key rates at a meeting on Thursday. The dollar opened weakly against the Japanese yen but then rallied.',\n",
       " 'question': 'What events have already finished?'}"
      ]
     },
     "execution_count": 6,
     "metadata": {},
     "output_type": "execute_result"
    }
   ],
   "source": [
    "torque_datas[0]"
   ]
  },
  {
   "cell_type": "code",
   "execution_count": 79,
   "metadata": {},
   "outputs": [],
   "source": [
    "prompt = \"\"\"You will be presented with a passage and a question about temporal ordering of event. \n",
    "You have to answer the temporal ordering question based on the passage.\n",
    "The answer to the question comes from the trigger of events in the passage.\n",
    "Passage: {}\n",
    "Question: {}\n",
    "Answer:\n",
    "\"\"\"\n",
    "prompt2 = \"\"\"You will be presented with a passage and a question about temporal ordering of event.\n",
    "You have to answer the question based on the passage.\n",
    "The answer to the question is the trigger words of events in the passage.\n",
    "Each question may have 0 or more answers.  If there is no answer that meets the requirements, output [unanswerable].\n",
    "Only output the trigger word or [unanswerable].\n",
    "Passage: {}\n",
    "Question: {}\n",
    "Answer:\"\"\"\n",
    "\n",
    "prompt3 = \"\"\"You will be presented with a passage and a question about temporal ordering of event.\n",
    "You have to answer the question based on the passage.\n",
    "Only output the event trigger words. \n",
    "If there is no answer, output [unanswerable]\n",
    "Passage: {}\n",
    "Question: {}\n",
    "Answer:\"\"\"\n",
    "\n",
    "prompt4 = \"\"\"You will be presented with a passage and a question about temporal ordering of event.\n",
    "You have to answer the question based on the passage.\n",
    "If there is no answer, output [unanswerable]\n",
    "Only output the event trigger words. \n",
    "Passage: {}\n",
    "Question: {}\n",
    "Answer:\"\"\"\n",
    "\n",
    "prompt5 = \"\"\"You will be presented with a passage and a question about temporal ordering of event.\n",
    "You have to answer the question based on the passage.\n",
    "Only output the event trigger words. \n",
    "Passage: {}\n",
    "Question: {}\n",
    "Answer:\"\"\"\n",
    "\n",
    "prompt6 = \"\"\"You will be presented with a passage and a question about temporal ordering of event.\n",
    "You have to answer the question based on the passage.\n",
    "Only output the event trigger words. \n",
    "Only output the event trigger words. \n",
    "Only output the event trigger words. \n",
    "Passage: {}\n",
    "Question: {}\n",
    "Answer:\"\"\"\n",
    "\n",
    "prompt6 = \"\"\"You will be presented with a passage and a question about temporal ordering of event.\n",
    "You have to answer the question based on the passage.\n",
    "Only output the event trigger word.\n",
    "Only output the event trigger word. \n",
    "Only output the event trigger word. \n",
    "Passage: {}\n",
    "Question: {}\n",
    "Answer:\"\"\"\n",
    "\n",
    "prompt6 = \"\"\"You will be presented with a passage and a question about temporal ordering of event.\n",
    "You have to answer the question based on the passage.\n",
    "Only output the event trigger word.\n",
    "Passage: {}\n",
    "Question: {}\n",
    "Answer:\"\"\""
   ]
  },
  {
   "cell_type": "code",
   "execution_count": 164,
   "metadata": {},
   "outputs": [],
   "source": [
    "prompt10 = \"\"\"You will be presented with a passage and a question about temporal ordering of event.\n",
    "You have to answer the question based on the passage.\n",
    "Outputs all the correct event trigger.\n",
    "Passage: {}\n",
    "Question: {}\n",
    "Answer:\"\"\"\n",
    "\n",
    "prompt11 = \"\"\"You will be presented with a passage and a question about temporal ordering of event.\n",
    "You need to answer the question using the event trigger word, output all correct event trigger words(seperated with comma).\n",
    "Passage: {}\n",
    "Question: {}\n",
    "Answer:\"\"\"\n",
    "\n",
    "prompt12 = \"\"\"You will be presented with a passage and a question about temporal ordering of event.\n",
    "You need to answer the question base on the passage.\n",
    "The answer format is single trigger word (e.g. left).\n",
    "Passage: {}\n",
    "Question: {}\"\"\"\n",
    "\n",
    "prompt13 = \"\"\"Get answers for the question based on the context.\n",
    "An event trigger is a single word that represents the predicate of an event.\n",
    "Answers are event triggers from the passage.\n",
    "Output all correct event context.\n",
    "Context: {}\n",
    "Question: {}\n",
    "Answer (Event Triggers):\"\"\""
   ]
  },
  {
   "cell_type": "code",
   "execution_count": 166,
   "metadata": {},
   "outputs": [
    {
     "data": {
      "text/plain": [
       "(\"Get answers for the question based on the context.\\nAn event trigger is a single word that represents the predicate of an event.\\nAnswers are event triggers from the passage.\\nOutput all correct event context.\\nContext: Few thousand people defied heavy snow and gathered Saturday evening in Skopje's main square to join celebration and listened some of Macedonia's most popular music stars. The joyful street party ended in fireworks, but the celebration was expected to continue in restaurants and cafes that were exceptionally allowed to work overnight instead of having to close by midnight as usual.\\nQuestion: What happened was expected to happen after the fireworks?\\nAnswer (Event Triggers):\",\n",
       " ['continue', 'allowed', 'work'],\n",
       " ['The celebration was expected to continue in restaurants and cafes.',\n",
       "  'The celebration was expected to continue in restaurants and cafes.',\n",
       "  'The celebration was expected to continue in restaurants and cafes.',\n",
       "  'The celebration was expected to continue in restaurants and cafes that were exceptionally allowed to work overnight instead of having to close by midnight as usual.',\n",
       "  'The celebration was expected to continue in restaurants and cafes.',\n",
       "  'The celebration was expected to continue in restaurants and cafes.',\n",
       "  'The celebration was expected to continue in restaurants and cafes.',\n",
       "  'The celebration was expected to continue in restaurants and cafes.',\n",
       "  'The celebration was expected to continue in restaurants and cafes.',\n",
       "  'The celebration was expected to continue in restaurants and cafes.'])"
      ]
     },
     "execution_count": 166,
     "metadata": {},
     "output_type": "execute_result"
    }
   ],
   "source": [
    "N = 341\n",
    "input = prompt13.format(torque_datas[N]['passage'], torque_datas[N]['question'])\n",
    "result = gpt_decoder(input, n=10)\n",
    "input, torque_datas[N]['answer'], result"
   ]
  },
  {
   "cell_type": "code",
   "execution_count": 65,
   "metadata": {},
   "outputs": [],
   "source": [
    "def extract_answer(text):\n",
    "    text = text.strip()\n",
    "    triggers = text.split(',')\n",
    "    triggers_satisfy = []\n",
    "    for trigger in triggers:\n",
    "        trigger = trigger.strip()\n",
    "        trigger = trigger.split()\n",
    "        if len(trigger) == 1:\n",
    "            triggers_satisfy.append(trigger[0])\n",
    "    if len(triggers_satisfy) > 0:\n",
    "        return triggers_satisfy\n",
    "    else:\n",
    "        return None\n"
   ]
  },
  {
   "cell_type": "code",
   "execution_count": 136,
   "metadata": {},
   "outputs": [
    {
     "name": "stdout",
     "output_type": "stream",
     "text": [
      "1. The passage mentions that Wei had been under close watch at home.\n",
      "2. The passage also mentions that Wei was left briefly alone over the weekend.\n",
      "3. After being left alone, Wei chose that moment to hang himself in the bathroom of his apartment.\n",
      "\n",
      "Therefore, the events that occurred before Wei chose to hang himself are: \n",
      "1. Wei had been under close watch at home. \n",
      "2. Wei was left briefly alone over the weekend.\n"
     ]
    }
   ],
   "source": [
    "print('1. The passage mentions that Wei had been under close watch at home.\\n2. The passage also mentions that Wei was left briefly alone over the weekend.\\n3. After being left alone, Wei chose that moment to hang himself in the bathroom of his apartment.\\n\\nTherefore, the events that occurred before Wei chose to hang himself are: \\n1. Wei had been under close watch at home. \\n2. Wei was left briefly alone over the weekend.')"
   ]
  },
  {
   "cell_type": "code",
   "execution_count": 97,
   "metadata": {},
   "outputs": [],
   "source": [
    "def metric_cal(gold, pred):\n",
    "    TP, FP, FN = 0, 0, 0\n",
    "    for p in pred: #True positive\n",
    "        if p in gold:\n",
    "            TP += 1\n",
    "    for p in pred: #False positive\n",
    "        if p not in gold:\n",
    "            FP += 1\n",
    "    for g in gold: #False Negative\n",
    "        if g not in pred:\n",
    "            FN += 1\n",
    "    P = TP / (TP + FP)\n",
    "    R = TP / (TP + FN)\n",
    "    if P + R == 0:\n",
    "        F = 0\n",
    "    else:\n",
    "        F = 2 * P * R / (P + R)\n",
    "    return P, R, F\n",
    "        \n",
    "    "
   ]
  },
  {
   "cell_type": "code",
   "execution_count": 98,
   "metadata": {},
   "outputs": [
    {
     "data": {
      "text/plain": [
       "(0.0, 0.0, 0)"
      ]
     },
     "execution_count": 98,
     "metadata": {},
     "output_type": "execute_result"
    }
   ],
   "source": [
    "metric_cal(['A', 'B', 'C'], ['D'])"
   ]
  },
  {
   "cell_type": "code",
   "execution_count": null,
   "metadata": {},
   "outputs": [],
   "source": []
  }
 ],
 "metadata": {
  "kernelspec": {
   "display_name": "base",
   "language": "python",
   "name": "python3"
  },
  "language_info": {
   "codemirror_mode": {
    "name": "ipython",
    "version": 3
   },
   "file_extension": ".py",
   "mimetype": "text/x-python",
   "name": "python",
   "nbconvert_exporter": "python",
   "pygments_lexer": "ipython3",
   "version": "3.9.12"
  }
 },
 "nbformat": 4,
 "nbformat_minor": 2
}
