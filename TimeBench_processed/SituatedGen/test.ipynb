{
 "cells": [
  {
   "cell_type": "code",
   "execution_count": 1,
   "metadata": {},
   "outputs": [],
   "source": [
    "import sys\n",
    "import json\n",
    "import numpy as np\n",
    "import random\n",
    "import time\n",
    "sys.path.append('../utils/')\n",
    "from utils import gpt_decoder, load_json, load_jsonl\n",
    "def write(fp, line):\n",
    "    with open(fp, 'a', encoding='utf-8') as f:\n",
    "        f.write(json.dumps(line) + '\\n')"
   ]
  },
  {
   "cell_type": "code",
   "execution_count": 2,
   "metadata": {},
   "outputs": [],
   "source": [
    "sg_datas = load_jsonl('./test_115.jsonl')"
   ]
  },
  {
   "cell_type": "code",
   "execution_count": 3,
   "metadata": {},
   "outputs": [
    {
     "data": {
      "text/plain": [
       "{'keywords': ['approximately 365 days',\n",
       "  'axis',\n",
       "  'every 24 hours',\n",
       "  'sun',\n",
       "  'Earth',\n",
       "  'Earth'],\n",
       " 'statement': 'Earth revolves around the sun approximately 365 days. Earth rotates on its axis once every 24 hours.',\n",
       " 'ids': ['arc::Easy::Test::101', 'arc::Easy::Test::110'],\n",
       " 'keywords_pos': [0, 1, 1, 0, 1, 0],\n",
       " 'statements': ['Earth revolves around the sun approximately 365 days.',\n",
       "  'Earth rotates on its axis once every 24 hours.']}"
      ]
     },
     "execution_count": 3,
     "metadata": {},
     "output_type": "execute_result"
    }
   ],
   "source": [
    "sg_datas[0]"
   ]
  },
  {
   "cell_type": "code",
   "execution_count": 14,
   "metadata": {},
   "outputs": [],
   "source": [
    "prompt_1 = \"\"\"Given several keywords, you need to use these keywords to generate a pair of contrastive sentences. \n",
    "Keywords:{}\n",
    "Sentence1:\n",
    "Sentence2:\n",
    "\"\"\"\n",
    "\n",
    "prompt_2 = \"\"\"Generate a pair of contrastive sentences with the given set of keywords.\n",
    "Keywords:{}\n",
    "Sentence1:\n",
    "Sentence2:\n",
    "\"\"\""
   ]
  },
  {
   "cell_type": "code",
   "execution_count": 10,
   "metadata": {},
   "outputs": [
    {
     "data": {
      "text/plain": [
       "['Sentence 1: \"The Earth completes one full rotation on its axis every 24 hours.\"\\nSentence 2: \"The Earth takes approximately 365 days to orbit around the sun.\"',\n",
       " 'Sentence 1: The Earth completes one full rotation on its axis every 24 hours.\\nSentence 2: The Earth completes one full revolution around the sun approximately every 365 days.',\n",
       " 'Sentence 1: The Earth completes one full rotation on its axis every 24 hours.\\nSentence 2: The Earth completes one full revolution around the sun approximately every 365 days.',\n",
       " 'Sentence 1: The Earth completes one full rotation on its axis every 24 hours, causing day and night to occur.\\nSentence 2: The Earth completes one full orbit around the sun approximately every 365 days, resulting in the change of seasons.',\n",
       " 'Sentence 1: The Earth rotates on its axis every 24 hours.\\nSentence 2: The Earth orbits around the sun approximately 365 days.',\n",
       " 'Sentence 1: The Earth completes one full rotation on its axis every 24 hours.\\nSentence 2: The Earth takes approximately 365 days to orbit around the sun.',\n",
       " 'Sentence 1: The Earth completes one rotation on its axis every 24 hours.\\nSentence 2: The Earth completes one revolution around the sun approximately every 365 days.',\n",
       " 'Sentence 1: The Earth completes one full rotation on its axis every 24 hours.\\nSentence 2: The Earth completes one full orbit around the sun approximately every 365 days.',\n",
       " 'Sentence1: The Earth revolves around the sun approximately 365 days a year.\\nSentence2: The Earth rotates on its axis every 24 hours.',\n",
       " 'Sentence 1: The Earth completes one full rotation on its axis every 24 hours.\\nSentence 2: The Earth completes one full orbit around the sun approximately every 365 days.']"
      ]
     },
     "execution_count": 10,
     "metadata": {},
     "output_type": "execute_result"
    }
   ],
   "source": [
    "gpt_decoder(prompt_2.format(' ,'.join(sg_datas[0]['keywords'])), n=10)"
   ]
  },
  {
   "cell_type": "code",
   "execution_count": 11,
   "metadata": {},
   "outputs": [
    {
     "data": {
      "text/plain": [
       "['Sentence1: The Earth completes one rotation on its axis every 24 hours, resulting in approximately 365 days in a year.\\n\\nSentence2: The sun is at the center of the solar system, and the Earth orbits around it, completing a full revolution in approximately 365 days.',\n",
       " 'Sentence 1: The Earth revolves around the sun on its axis approximately every 24 hours, completing a full rotation in approximately 365 days.\\n\\nSentence 2: The axis of the Earth is responsible for its rotation around the sun, completing a full revolution in approximately 365 days.',\n",
       " 'Sentence 1: The Earth revolves around the sun on its axis approximately every 24 hours.\\n\\nSentence 2: It takes approximately 365 days for the Earth to complete one orbit around the sun.',\n",
       " \"Sentence 1: The Earth rotates on its axis every 24 hours, completing approximately 365 days in a year.\\n\\nSentence 2: The sun, located at the center of our solar system, is responsible for the Earth's rotation on its axis every 24 hours, resulting in approximately 365 days in a year.\",\n",
       " 'Sentence1: The Earth revolves around the sun on its axis, completing a full rotation approximately every 24 hours.\\n\\nSentence2: It takes the Earth approximately 365 days to orbit the sun once, completing one full revolution around it.',\n",
       " 'Sentence 1: The Earth completes one full rotation on its axis approximately every 24 hours.\\n\\nSentence 2: The Earth completes one full orbit around the sun, taking approximately 365 days.',\n",
       " 'Sentence 1: The Earth rotates on its axis every 24 hours, causing the sun to rise and set approximately 365 days a year.\\n\\nSentence 2: The Earth, with its axis, completes one full rotation every 24 hours, resulting in approximately 365 days in a year.',\n",
       " 'Sentence1: The Earth rotates on its axis approximately every 24 hours, causing day and night to occur.\\n\\nSentence2: The Earth orbits around the sun, completing one revolution in approximately 365 days.',\n",
       " 'Sentence1: The Earth completes one full rotation on its axis approximately every 24 hours.\\n\\nSentence2: The Earth takes approximately 365 days to complete one orbit around the sun.',\n",
       " 'Sentence1: The Earth completes one rotation on its axis every 24 hours, resulting in approximately 365 days in a year.\\n\\nSentence2: The sun is at the center of our solar system, and the Earth orbits around it, completing a full revolution in approximately 365 days.']"
      ]
     },
     "execution_count": 11,
     "metadata": {},
     "output_type": "execute_result"
    }
   ],
   "source": [
    "gpt_decoder(prompt_1.format(' ,'.join(sg_datas[0]['keywords'])), n=10)"
   ]
  },
  {
   "cell_type": "code",
   "execution_count": 15,
   "metadata": {},
   "outputs": [
    {
     "data": {
      "text/plain": [
       "['Sentence 1: The Earth completes one full rotation on its axis approximately every 24 hours.\\nSentence 2: The Earth completes one full revolution around the sun approximately every 365 days.',\n",
       " 'Sentence1: The Earth takes approximately 365 days to orbit the sun.\\nSentence2: The Earth rotates on its axis every 24 hours.',\n",
       " 'Sentence 1: The Earth completes one full rotation on its axis every 24 hours.\\nSentence 2: It takes approximately 365 days for the Earth to orbit around the sun.',\n",
       " 'Sentence 1: The Earth takes approximately 365 days to complete one revolution around the sun.\\nSentence 2: The Earth rotates on its axis every 24 hours, causing the sun to appear to rise and set.',\n",
       " 'Sentence1: The Earth takes approximately 365 days to complete one orbit around the sun.\\nSentence2: The Earth rotates on its axis every 24 hours, causing day and night.',\n",
       " 'Sentence 1: The Earth rotates on its axis every 24 hours, resulting in approximately 365 days in a year.\\n\\nSentence 2: The sun remains stationary as the Earth completes one rotation on its axis every 24 hours.',\n",
       " 'Sentence 1: The Earth takes approximately 365 days to complete one orbit around the sun.\\nSentence 2: The Earth rotates on its axis every 24 hours, causing the sun to appear to rise and set each day.',\n",
       " 'Sentence 1: The Earth completes one full rotation on its axis approximately every 24 hours.\\nSentence 2: The Earth takes approximately 365 days to complete one full revolution around the sun.',\n",
       " 'Sentence1: The Earth completes one rotation around its axis every 24 hours.\\nSentence2: The Earth takes approximately 365 days to orbit around the sun.',\n",
       " 'Sentence1: The Earth completes one revolution around the sun approximately every 365 days.\\nSentence2: The Earth rotates on its axis every 24 hours.']"
      ]
     },
     "execution_count": 15,
     "metadata": {},
     "output_type": "execute_result"
    }
   ],
   "source": [
    "gpt_decoder(prompt_1.format(' ,'.join(sg_datas[0]['keywords'])), n=10)"
   ]
  },
  {
   "cell_type": "code",
   "execution_count": 16,
   "metadata": {},
   "outputs": [
    {
     "data": {
      "text/plain": [
       "['Sentence 1: Today, Chevrolet produces sleek and modern vehicles like the Corvette, a far cry from the behemoth cars of the 1950s.\\n\\nSentence 2: Located in Bowling Green, Kentucky, the Chevrolet Corvette was once a symbol of power and luxury on the United States Numbered Highway System.',\n",
       " 'Sentence 1: Today, the Chevrolet Corvette, a sleek and powerful sports car, is manufactured in Bowling Green, Kentucky.\\nSentence 2: In 1950, Chevrolet produced the Behemoth, a massive truck meant for hauling heavy loads, in the United States Numbered Highway System.',\n",
       " 'Sentence1: Today, Chevrolet is known for its sleek and stylish Corvette, a far cry from the behemoth cars they produced in the 1950s.\\nSentence2: Bowling Green, Kentucky, home to the Chevrolet Corvette, is also a hub for the United States Numbered Highway System, connecting the state to the rest of the country.',\n",
       " 'Sentence 1: Today, Chevrolet produces the sleek and powerful Corvette in Bowling Green, Kentucky.\\nSentence 2: In 1950, Chevrolet manufactured the behemoth vehicles that traveled the United States Numbered Highway System.',\n",
       " '1. Today, Chevrolet produces the sleek and powerful Corvette, but back in 1950, they were known for their behemoth vehicles.\\n2. Bowling Green, Kentucky is not only home to the Chevrolet Corvette, but it also serves as a significant stop along the United States Numbered Highway System.',\n",
       " \"1. Today, Chevrolet produces sleek and efficient cars like the Corvette, a far cry from the behemoth vehicles of the 1950s.\\n2. In 1950, Chevrolet's Bowling Green plant in Kentucky was a hub of production for their massive vehicles, which dominated the United States Numbered Highway System.\",\n",
       " 'Sentence 1: Today, Chevrolet produces sleek and modern vehicles like the Corvette, a stark contrast to the behemoth cars they manufactured in the 1950s.\\n\\nSentence 2: Bowling Green, Kentucky, is not only home to the Chevrolet Corvette, but also a significant hub for the United States Numbered Highway System, showcasing the juxtaposition of automotive excellence and transportation infrastructure.',\n",
       " 'Sentence 1: Today, the Chevrolet Corvette is a sleek and powerful sports car, a far cry from the behemoth it was in 1950.\\nSentence 2: The Chevrolet Corvette, manufactured in Bowling Green, Kentucky, has come a long way since its early days on the United States Numbered Highway System.',\n",
       " 'Sentence 1: Today, Chevrolet produces sleek and modern vehicles like the Corvette, a far cry from the behemoth cars of the 1950s.\\nSentence 2: Bowling Green, Kentucky, home to the Chevrolet Corvette, is a key location along the United States Numbered Highway System, connecting various states across the country.',\n",
       " 'Sentence 1: In 1950, Chevrolet introduced the Corvette, a sleek and sporty car that quickly became an icon of American automotive design.\\nSentence 2: Today, the Chevrolet Behemoth dominates the roads, a massive vehicle known for its size and power, rolling down the United States Numbered Highway System in Bowling Green, Kentucky.']"
      ]
     },
     "execution_count": 16,
     "metadata": {},
     "output_type": "execute_result"
    }
   ],
   "source": [
    "gpt_decoder(prompt_2.format(' ,'.join(sg_datas[23]['keywords'])), n=10)"
   ]
  },
  {
   "cell_type": "code",
   "execution_count": 17,
   "metadata": {},
   "outputs": [
    {
     "data": {
      "text/plain": [
       "['Sentence 1: Today in Bowling Green, Kentucky, you can find the Chevrolet Corvette, a sleek and powerful sports car.\\nSentence 2: In 1950, the Chevrolet Behemoth, a massive vehicle, roamed the United States Numbered Highway System.',\n",
       " \"Sentence 1: Today, Chevrolet's Corvette, a sleek and powerful sports car, is manufactured in Bowling Green, Kentucky.\\nSentence 2: In 1950, Chevrolet introduced the behemoth of a car, the Chevrolet Suburban, which became an icon of the United States Numbered Highway System.\",\n",
       " 'Sentence 1: Today, Chevrolet manufactures the sleek and powerful Corvette in Bowling Green, Kentucky.\\nSentence 2: In 1950, Chevrolet produced the behemoth of a vehicle, part of the United States Numbered Highway System, in Kentucky.',\n",
       " 'Sentence 1: Today, the Chevrolet Corvette, a sleek sports car, is produced in Bowling Green, Kentucky, a far cry from its behemoth-like predecessor in 1950.\\nSentence 2: In 1950, the Chevrolet behemoth dominated the roads of the United States, a stark contrast to the sleek and agile Corvette produced today in Bowling Green, Kentucky.',\n",
       " \"Sentence 1: Today, Chevrolet's Corvette is a sleek and powerful sports car, a far cry from the behemoth vehicles of the 1950s.\\nSentence 2: Bowling Green, Kentucky, home to the Corvette factory, is also known for being a significant location along the historic United States Numbered Highway System.\",\n",
       " 'Sentence 1: Today, Chevrolet produces a wide range of vehicles, from compact cars to SUVs, catering to various needs and preferences. \\nSentence 2: In 1950, Chevrolet introduced the Corvette, a sleek and powerful sports car that became an icon in the automotive industry.',\n",
       " \"Sentence1: Today, Chevrolet's behemoth Corvette is proudly manufactured in Bowling Green, Kentucky, a testament to its rich history since its introduction in 1950.\\n\\nSentence2: In 1950, the United States Numbered Highway System did not have the privilege of witnessing Chevrolet's behemoth Corvette being manufactured in Bowling Green, Kentucky, as it does today.\",\n",
       " 'Sentence1: Today, Chevrolet produces a wide range of vehicles, from small cars to SUVs, catering to different customer needs.\\nSentence2: In 1950, Chevrolet introduced the Corvette, a sleek and powerful sports car that became an icon in the automotive industry.',\n",
       " 'Sentence 1: Today, Chevrolet produces the sleek and powerful Corvette at their manufacturing plant in Bowling Green, Kentucky.\\nSentence 2: In 1950, Chevrolet introduced the behemoth of a car, designed for long-distance travel on the United States Numbered Highway System.',\n",
       " 'Sentence 1: Today, the Chevrolet Corvette, a sleek and modern sports car, is produced in Bowling Green, Kentucky.\\nSentence 2: In 1950, the Chevrolet Behemoth, a massive and powerful vehicle, was a common sight on the United States Numbered Highway System.']"
      ]
     },
     "execution_count": 17,
     "metadata": {},
     "output_type": "execute_result"
    }
   ],
   "source": [
    "gpt_decoder(prompt_1.format(' ,'.join(sg_datas[23]['keywords'])), n=10)"
   ]
  },
  {
   "cell_type": "code",
   "execution_count": null,
   "metadata": {},
   "outputs": [],
   "source": []
  }
 ],
 "metadata": {
  "kernelspec": {
   "display_name": "base",
   "language": "python",
   "name": "python3"
  },
  "language_info": {
   "codemirror_mode": {
    "name": "ipython",
    "version": 3
   },
   "file_extension": ".py",
   "mimetype": "text/x-python",
   "name": "python",
   "nbconvert_exporter": "python",
   "pygments_lexer": "ipython3",
   "version": "3.9.12"
  }
 },
 "nbformat": 4,
 "nbformat_minor": 2
}
