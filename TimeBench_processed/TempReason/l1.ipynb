{
 "cells": [
  {
   "cell_type": "code",
   "execution_count": 7,
   "metadata": {},
   "outputs": [],
   "source": [
    "import sys\n",
    "import json\n",
    "import numpy as np\n",
    "import random\n",
    "import time\n",
    "sys.path.append('../utils/')\n",
    "from utils import gpt_decoder, load_json, load_jsonl\n",
    "def write(fp, line):\n",
    "    with open(fp, 'a', encoding='utf-8') as f:\n",
    "        f.write(json.dumps(line) + '\\n')"
   ]
  },
  {
   "cell_type": "code",
   "execution_count": 2,
   "metadata": {},
   "outputs": [],
   "source": [
    "l1_datas = load_jsonl('l1_timebench.jsonl')\n",
    "l1_datas_50 = l1_datas[:50]\n",
    "l1_datas_10 = l1_datas_50[:10]"
   ]
  },
  {
   "cell_type": "code",
   "execution_count": 3,
   "metadata": {},
   "outputs": [],
   "source": [
    "prompt_100 = \"{}?\"\n",
    "prompt_101 = \"{}? The answer is\"\n",
    "prompt_102 = \"{}? Directly output the answer, don't output the reasoning process. The answer is\"\n",
    "prompt_200 = \"{}? Let's think step by step.\"\n",
    "\n",
    "answer_trigger = \"{} Therefore, the answer is\""
   ]
  },
  {
   "cell_type": "code",
   "execution_count": 8,
   "metadata": {},
   "outputs": [],
   "source": [
    "def run(pattern, datas):\n",
    "    results = []\n",
    "    for data in datas:\n",
    "        q = data['question']\n",
    "        a = data['answer']\n",
    "        prompt = pattern.format(q)\n",
    "        predict = gpt_decoder(prompt, n=1)\n",
    "        results.append([q, a, predict])\n",
    "        write('./l1_results.jsonl', {'q':q, 'a':a[0], 'p':predict[0]})\n",
    "        time.sleep(1.0)\n",
    "    return results\n",
    "\n"
   ]
  },
  {
   "cell_type": "code",
   "execution_count": 9,
   "metadata": {},
   "outputs": [
    {
     "name": "stdout",
     "output_type": "stream",
     "text": [
      "time consume :11.522489547729492\n",
      "time consume :6.4037439823150635\n",
      "time consume :7.552268743515015\n",
      "time consume :2.7674190998077393\n",
      "time consume :7.861821413040161\n",
      "time consume :7.366655349731445\n",
      "time consume :6.492549896240234\n",
      "time consume :2.3944826126098633\n",
      "time consume :2.064324378967285\n",
      "time consume :8.125284671783447\n"
     ]
    }
   ],
   "source": [
    "results_100 = run(prompt_100, l1_datas_10)"
   ]
  },
  {
   "cell_type": "code",
   "execution_count": null,
   "metadata": {},
   "outputs": [],
   "source": [
    "results_101 = run(prompt_101, l1_datas_10)\n",
    "results_102 = run(prompt_102, l1_datas_10)\n",
    "results_200 = run(prompt_200, l1_datas_10)"
   ]
  },
  {
   "cell_type": "code",
   "execution_count": 17,
   "metadata": {},
   "outputs": [
    {
     "name": "stdout",
     "output_type": "stream",
     "text": [
      "time consume :15.69370985031128\n",
      "time consume :11.54982042312622\n"
     ]
    }
   ],
   "source": [
    "results_200 = run(prompt_200, l1_datas_10[-2:])"
   ]
  },
  {
   "cell_type": "code",
   "execution_count": 41,
   "metadata": {},
   "outputs": [],
   "source": [
    "import re\n",
    "re.sub(\"\\(|\\)|:|\\.|\\|\\n|\\,\", \"\", \"Therefore, 1 year and 1 month after May, 1111 is June,   1112.\")\n",
    "patter = r\"(Jan|Feb|Mar|Apr|May|Jun|Jul|Aug|Sep|Sept|Oct|Nov|Dec|January|February|March|April|May|June|July|August|September|October|November|December)\\s*([0-9]{2,4})\"\n"
   ]
  },
  {
   "cell_type": "code",
   "execution_count": 46,
   "metadata": {},
   "outputs": [
    {
     "data": {
      "text/plain": [
       "[]"
      ]
     },
     "execution_count": 46,
     "metadata": {},
     "output_type": "execute_result"
    }
   ],
   "source": [
    "pred =  \"Therefore, 1 year and 1 month aft.\"\n",
    "pred = pred.strip()\n",
    "import re\n",
    "pred = re.sub(\"\\(|\\)|:|\\.|\\|\\n|\\,\", \"\", pred)\n",
    "results = re.findall(patter, pred)\n",
    "results"
   ]
  },
  {
   "cell_type": "code",
   "execution_count": 94,
   "metadata": {},
   "outputs": [],
   "source": [
    "def extract_date(text):\n",
    "    if isinstance(text, list):\n",
    "        text = text[0]\n",
    "    pattern = r\"(Jan|Feb|Mar|Apr|May|Jun|Jul|Aug|Sep|Sept|Oct|Nov|Dec|January|February|March|April|May|June|July|August|September|October|November|December)\\s*([0-9]{2,4})\"\n",
    "    text = text.strip()\n",
    "    text = re.sub(\"\\(|\\)|:|\\.|\\|\\n|\\,\", \"\", text)\n",
    "    results = re.findall(pattern, text)\n",
    "    if len(results) > 0:\n",
    "        return list(results[-1])\n",
    "    else:\n",
    "        return None\n",
    "MONTH_TO_NUM = {\n",
    "    'Jan' : 1, 'Feb' : 2, 'Mar' : 3, 'Apr' : 4, 'May' : 5, 'Jun' : 6, 'Jul' : 7, 'Aug' : 8, 'Sep' : 9, 'Sept' : 9, 'Oct' : 10, 'Nov' : 11, 'Dec' : 12,\n",
    "    'January' : 1, 'February' : 2, 'March' : 3, 'April' : 4, 'May' : 5, 'June' : 6, 'July' : 7, 'August' : 8, 'September' : 9, 'October' : 10, 'November' : 11 ,'December' : 12 }\n",
    "def is_date_equal(date1, date2):\n",
    "    #Date format (Month, Year)\n",
    "    def convert_date_to_list(date):\n",
    "        if isinstance(date, list) and len(date) == 1:\n",
    "            date = date[0]\n",
    "        if isinstance(date, str):\n",
    "            date = date.split(\",\")\n",
    "            date = [d.strip() for d in date]\n",
    "        date = [MONTH_TO_NUM[date[0].lower().capitalize()], int(date[1])]\n",
    "        return date\n",
    "    date1, date2 = convert_date_to_list(date1), convert_date_to_list(date2)\n",
    "    if date1[0] != date2[0]:\n",
    "        return False\n",
    "    if date1[1] != date2[1]:\n",
    "        return False\n",
    "    return True"
   ]
  },
  {
   "cell_type": "code",
   "execution_count": 96,
   "metadata": {},
   "outputs": [
    {
     "data": {
      "text/plain": [
       "(0.7, 0.9, 0.7, 0.5)"
      ]
     },
     "execution_count": 96,
     "metadata": {},
     "output_type": "execute_result"
    }
   ],
   "source": [
    "pred = []\n",
    "false_pred = []\n",
    "for res in [*results_100, *results_101, *results_102, *results_200]:\n",
    "    a = res[1]\n",
    "    p = res[2]\n",
    "    p = extract_date(p)\n",
    "    res = is_date_equal(a, p)\n",
    "    if res is True:\n",
    "        pred.append(1)\n",
    "    else:\n",
    "        pred.append(0)\n",
    "\n",
    "np.mean(pred[0:10]), np.mean(pred[10:20]), np.mean(pred[20:30]), np.mean(pred[30:40])"
   ]
  },
  {
   "cell_type": "code",
   "execution_count": 83,
   "metadata": {},
   "outputs": [
    {
     "data": {
      "text/plain": [
       "True"
      ]
     },
     "execution_count": 83,
     "metadata": {},
     "output_type": "execute_result"
    }
   ],
   "source": [
    "isinstance(a, str)"
   ]
  },
  {
   "cell_type": "code",
   "execution_count": 84,
   "metadata": {},
   "outputs": [
    {
     "data": {
      "text/plain": [
       "'May'"
      ]
     },
     "execution_count": 84,
     "metadata": {},
     "output_type": "execute_result"
    }
   ],
   "source": [
    "a.split(',')[0]"
   ]
  },
  {
   "cell_type": "code",
   "execution_count": null,
   "metadata": {},
   "outputs": [],
   "source": []
  }
 ],
 "metadata": {
  "kernelspec": {
   "display_name": "base",
   "language": "python",
   "name": "python3"
  },
  "language_info": {
   "codemirror_mode": {
    "name": "ipython",
    "version": 3
   },
   "file_extension": ".py",
   "mimetype": "text/x-python",
   "name": "python",
   "nbconvert_exporter": "python",
   "pygments_lexer": "ipython3",
   "version": "3.9.12"
  }
 },
 "nbformat": 4,
 "nbformat_minor": 2
}
