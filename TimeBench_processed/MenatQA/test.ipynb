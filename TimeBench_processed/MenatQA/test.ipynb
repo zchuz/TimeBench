{
 "cells": [
  {
   "cell_type": "code",
   "execution_count": 1,
   "metadata": {},
   "outputs": [],
   "source": [
    "import sys\n",
    "import json\n",
    "import numpy as np\n",
    "import random\n",
    "import time\n",
    "sys.path.append('../utils/')\n",
    "from utils import gpt_decoder, load_json, load_jsonl\n",
    "def write(fp, line):\n",
    "    with open(fp, 'a', encoding='utf-8') as f:\n",
    "        f.write(json.dumps(line) + '\\n')"
   ]
  },
  {
   "cell_type": "code",
   "execution_count": 2,
   "metadata": {},
   "outputs": [],
   "source": [
    "datas_cf = load_jsonl('./processed_counterfactual.json')\n",
    "datas_od = load_jsonl('./processed_order.json')\n",
    "datas_sp = load_jsonl('./processed_scope.json')"
   ]
  },
  {
   "cell_type": "code",
   "execution_count": 8,
   "metadata": {},
   "outputs": [],
   "source": [
    "base_prompt = \"\"\"Get answers for the question based on the contxt, where answers derived from substrings in the context or categorized as 'unanswerable' :\n",
    "Context: {}\n",
    "Question: {}\n",
    "Answer:\n",
    "\"\"\" \n",
    "\n",
    "sp_prompt = \"\"\"Get answers for the question based on the context. If the time interval of when the event mentioned in the question occurred in the context, the answer is the span in the context. Else output 'unanswerable' :\n",
    "Context: {}\n",
    "Question: {}\n",
    "Answer:\n",
    "\"\"\"\n",
    "\n",
    "cf_prompt = \"\"\"Get answers for the question based on the contxt, where answers derived from substrings in the context or categorized as 'unanswerable' :\n",
    "Eric reads an article as follows: {} Eric imagines counterfactuals that {}\n",
    "Question: {} in Eric's imagination?\n",
    "Answer\n",
    "\"\"\""
   ]
  },
  {
   "cell_type": "code",
   "execution_count": 14,
   "metadata": {},
   "outputs": [
    {
     "data": {
      "text/plain": [
       "\"Get answers for the question based on the contxt, where answers derived from substrings in the context or categorized as 'unanswerable' :\\nEric reads an article as follows: asd Eric imagines counterfactuals that asd\\nQuestion: asd in Eric's imagination?\\nAnswer\\n\""
      ]
     },
     "execution_count": 14,
     "metadata": {},
     "output_type": "execute_result"
    }
   ],
   "source": [
    "cf_prompt.format(a='asd', b='asd', c='asd')"
   ]
  },
  {
   "cell_type": "code",
   "execution_count": 7,
   "metadata": {},
   "outputs": [
    {
     "data": {
      "text/plain": [
       "{'question': 'What was the position of William B. Umstead from 1945 to 1947, if William B. Umstead elected the United States Senator from 1944?',\n",
       " 'answer': 'United States Senator',\n",
       " 'context': [' William Bradley Umstead ( May 13 , 1895November 7 , 1954 ) was an American politician who served as a United States Senator and the 63rd Governor of North Carolina from 1953 to 1954 . Early life and education .',\n",
       "  'Umstead was born in the northern Durham County town of Bahama in 1895 . In 1916 , he earned a bachelors degree in history from the University of North Carolina at Chapel Hill where , like several of North Carolinas UNC-alumni Governors before him , he was a member of the Philanthropic Society . Reflecting on his time as a Phi , in 1948 Umstead ( then a U.S . Senator ) asserted in an article to the Daily Tar Heel If I had in my hand everything I learned in the halls of [ the Philanthropic Society ] and',\n",
       "  'Defeated for a Senate term of his own in 1948 , Umstead ran for governor in 1952 and won . Umstead was chairman of the North Carolina Democratic Party for several years until he was appointed to fill a vacant United States Senate seat in 1946 .He served from 1933 to 1939 in the United States House of Representatives , choosing not to seek re-election in 1938 . '],\n",
       " 'meta': {'time_scope': ['Dec 1946', 'Dec 1948'],\n",
       "  'annotated_para': 'William Bradley Umstead ( May 13 , 1895November 7 , 1954 ) was an American politician who served as a United States Senator and the 63rd Governor of North Carolina from 1953 to 1954 .',\n",
       "  'type': 'counterfactual',\n",
       "  'ID': 187}}"
      ]
     },
     "execution_count": 7,
     "metadata": {},
     "output_type": "execute_result"
    }
   ],
   "source": [
    "dcf = datas_cf[0]\n",
    "dcf"
   ]
  },
  {
   "cell_type": "code",
   "execution_count": null,
   "metadata": {},
   "outputs": [],
   "source": [
    "print(cf_prompt.format())"
   ]
  }
 ],
 "metadata": {
  "kernelspec": {
   "display_name": "base",
   "language": "python",
   "name": "python3"
  },
  "language_info": {
   "codemirror_mode": {
    "name": "ipython",
    "version": 3
   },
   "file_extension": ".py",
   "mimetype": "text/x-python",
   "name": "python",
   "nbconvert_exporter": "python",
   "pygments_lexer": "ipython3",
   "version": "3.9.12"
  }
 },
 "nbformat": 4,
 "nbformat_minor": 2
}
