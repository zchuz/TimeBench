{
 "cells": [
  {
   "cell_type": "code",
   "execution_count": 3,
   "metadata": {},
   "outputs": [],
   "source": [
    "import sys\n",
    "import json\n",
    "import numpy as np\n",
    "import random\n",
    "import time\n",
    "sys.path.append('../utils/')\n",
    "from utils import gpt_decoder, load_json, load_jsonl\n",
    "def write(fp, line):\n",
    "    with open(fp, 'a', encoding='utf-8') as f:\n",
    "        f.write(json.dumps(line) + '\\n')"
   ]
  },
  {
   "cell_type": "code",
   "execution_count": 26,
   "metadata": {},
   "outputs": [],
   "source": [
    "cs1_datas = load_jsonl('./cs1_timebench.jsonl')\n",
    "cs2_datas = load_jsonl('./cs2_timebench.jsonl')\n",
    "cs3_datas = load_jsonl('./cs3_timebench.jsonl')\n",
    "for fp, datas in zip(['./cs1_timebench.70.jsonl', './cs2_timebench.70.jsonl', './cs3_timebench.70.jsonl'], [cs1_datas, cs2_datas, cs3_datas]):\n",
    "    datas = random.sample(datas, k=70)\n",
    "    with open(fp, 'w', encoding='utf-8') as f:\n",
    "        for d in datas:\n",
    "            f.write(json.dumps(d) + '\\n')"
   ]
  },
  {
   "cell_type": "code",
   "execution_count": 3,
   "metadata": {},
   "outputs": [],
   "source": [
    "timexnli_cs1_prompt_100 = \"\"\"Read the following statements about time and determine if the hypothesis can be inferred from the premise.\n",
    "Premise: {}\n",
    "Hypothesis: {}\n",
    "Options: \n",
    "A. Entailment\n",
    "B. Contradiction\n",
    "C. Neutral\n",
    "Answer:\n",
    "\"\"\"\n",
    "timexnli_cs1_prompt_101 = \"\"\"Read the following statements about time and determine if the hypothesis can be inferred from the premise. \n",
    "Premise: {}\n",
    "Hypothesis: {}\n",
    "Choose one of the following options:\n",
    "A. Entailment. The hypothesis can be inferred from the premise.\n",
    "B. Contradiction. The hypothesis can not be inferred from the premise.\n",
    "C. Neutral. It is indeterminate.\n",
    "Answer:\n",
    "\"\"\"\n",
    "\n",
    "timexnli_cs1_prompt_201 = \"\"\"Read the following statements about time and determine if the hypothesis can be inferred from the premise. \n",
    "Premise: {}\n",
    "Hypothesis: {}\n",
    "Choose one of the following options:\n",
    "A. Entailment. The hypothesis can be inferred from the premise.\n",
    "B. Contradiction. The hypothesis can not be inferred from the premise.\n",
    "C. Neutral. It is indeterminate.\n",
    "Let's think step by step.\n",
    "\"\"\"\n",
    "\n",
    "timexnli_cs2_prompt_101 = \"\"\"Read the following statements about time duration and determine if the hypothesis can be inferred from the premise. \n",
    "Premise: {}\n",
    "Hypothesis: {}\n",
    "Choose one of the following options:\n",
    "A. Entailment. The hypothesis can be inferred from the premise.\n",
    "B. Contradiction. The hypothesis can not be inferred from the premise.\n",
    "Answer:\n",
    "\"\"\"\n",
    "\n",
    "timexnli_cs2_prompt_201 = \"\"\"Read the following statements about time duration and determine if the hypothesis can be inferred from the premise. \n",
    "Premise: {}\n",
    "Hypothesis: {}\n",
    "Choose one of the following options:\n",
    "A. Entailment. The hypothesis can be inferred from the premise.\n",
    "B. Contradiction. The hypothesis can not be inferred from the premise.\n",
    "Let's think step by step.\n",
    "\"\"\"\n",
    "\n",
    "timexnli_cs3_prompt_101 = \"\"\"Read the following statements about time duration and determine if the hypothesis can be inferred from the premise. \n",
    "Premise: {}\n",
    "Hypothesis: {}\n",
    "Choose one of the following options:\n",
    "A. Entailment. The hypothesis can be inferred from the premise.\n",
    "B. Contradiction. The hypothesis can not be inferred from the premise.\n",
    "C. Neutral. It is indeterminate.\n",
    "Answer:\n",
    "\"\"\"\n",
    "\n",
    "timexnli_cs3_prompt_201 = \"\"\"Read the following statements about time duration and determine if the hypothesis can be inferred from the premise. \n",
    "Premise: {}\n",
    "Hypothesis: {}\n",
    "Choose one of the following options:\n",
    "A. Entailment. The hypothesis can be inferred from the premise.\n",
    "B. Contradiction. The hypothesis can not be inferred from the premise.\n",
    "C. Neutral. It is indeterminate.\n",
    "Let's think step by step.\n",
    "\"\"\""
   ]
  },
  {
   "cell_type": "code",
   "execution_count": 4,
   "metadata": {},
   "outputs": [],
   "source": []
  },
  {
   "cell_type": "code",
   "execution_count": 5,
   "metadata": {},
   "outputs": [],
   "source": [
    "import re\n",
    "from utils import load_jsonl\n",
    "\n",
    "def extract_nli(text):\n",
    "    text = text.strip()\n",
    "    pattern = r\"(Entailment|Contradiction|Neutral)\"\n",
    "    results = re.findall(pattern=pattern, string=text, flags=re.IGNORECASE)\n",
    "    if len(results) > 0:\n",
    "        return results[-1]\n",
    "    else:\n",
    "        return None\n",
    "def cal_acc(fp):\n",
    "    datas = load_jsonl(fp)\n",
    "    ass = []\n",
    "    for data in datas:\n",
    "        label = extract_nli(data['a'])\n",
    "        predict = extract_nli(data['p'])\n",
    "        ass.append((label, predict))\n",
    "    return np.mean([1 if i[0]==i[1] else 0 for i in ass])"
   ]
  },
  {
   "cell_type": "code",
   "execution_count": null,
   "metadata": {},
   "outputs": [],
   "source": [
    "cal_acc('./cs1_results_100.jsonl'), cal_acc('./cs1_results_101.jsonl'), cal_acc('./cs1_results_201.jsonl')"
   ]
  },
  {
   "cell_type": "code",
   "execution_count": 16,
   "metadata": {},
   "outputs": [
    {
     "data": {
      "text/plain": [
       "(0.5, 0.44285714285714284, 0.2857142857142857)"
      ]
     },
     "execution_count": 16,
     "metadata": {},
     "output_type": "execute_result"
    }
   ],
   "source": [
    "cal_acc('./results_70/cs1_results_100.jsonl'), cal_acc('./results_70/cs1_results_101.jsonl'), cal_acc('./results_70/cs1_results_110.jsonl')"
   ]
  },
  {
   "cell_type": "code",
   "execution_count": 22,
   "metadata": {},
   "outputs": [
    {
     "data": {
      "text/plain": [
       "(0.0, 0.37142857142857144)"
      ]
     },
     "execution_count": 22,
     "metadata": {},
     "output_type": "execute_result"
    }
   ],
   "source": [
    "cal_acc('./results_70/cs1_results_102.jsonl'), cal_acc('./results_70/cs1_results_103.jsonl')"
   ]
  },
  {
   "cell_type": "code",
   "execution_count": 25,
   "metadata": {},
   "outputs": [
    {
     "data": {
      "text/plain": [
       "(0.6714285714285714, 0.4117647058823529)"
      ]
     },
     "execution_count": 25,
     "metadata": {},
     "output_type": "execute_result"
    }
   ],
   "source": [
    "cal_acc('./results_70/cs2_results_100.jsonl'),cal_acc('./results_70/cs3_results_100.jsonl')"
   ]
  },
  {
   "cell_type": "code",
   "execution_count": null,
   "metadata": {},
   "outputs": [],
   "source": []
  }
 ],
 "metadata": {
  "kernelspec": {
   "display_name": "base",
   "language": "python",
   "name": "python3"
  },
  "language_info": {
   "codemirror_mode": {
    "name": "ipython",
    "version": 3
   },
   "file_extension": ".py",
   "mimetype": "text/x-python",
   "name": "python",
   "nbconvert_exporter": "python",
   "pygments_lexer": "ipython3",
   "version": "3.9.12"
  }
 },
 "nbformat": 4,
 "nbformat_minor": 2
}
