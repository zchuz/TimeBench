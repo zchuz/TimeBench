{
 "cells": [
  {
   "cell_type": "code",
   "execution_count": 8,
   "metadata": {},
   "outputs": [],
   "source": [
    "import sys\n",
    "import json\n",
    "import numpy as np\n",
    "import random\n",
    "import time\n",
    "sys.path.append('../utils/')\n",
    "from utils import gpt_decoder, load_json, load_jsonl\n",
    "def write(fp, line):\n",
    "    with open(fp, 'a', encoding='utf-8') as f:\n",
    "        f.write(json.dumps(line) + '\\n')\n",
    "def convert_options_to_options(options):\n",
    "    return '\\n'.join([chr(ord('A') + i) + '. ' + o for i, o in enumerate(options)])"
   ]
  },
  {
   "cell_type": "code",
   "execution_count": 2,
   "metadata": {},
   "outputs": [],
   "source": [
    "l1_datas = load_jsonl('./timedial_f1_timebench.jsonl')\n",
    "l2_datas = load_jsonl('./timedial_f2_timebench.jsonl')"
   ]
  },
  {
   "cell_type": "code",
   "execution_count": 5,
   "metadata": {},
   "outputs": [
    {
     "data": {
      "text/plain": [
       "({'qid': 16,\n",
       "  'context': \"A:I need to get some business cards printed up .\\nB: Do you know how many you need ?\\nA: I think I can get by with 2,000 .\\nB: We can get started as soon as you fill out this form .\\nA: I hope you can make the new cards just like my old cards .\\nB: You won't be able to tell the difference with a magnifying glass .\\nA: ... Okay , I'm through . Here's the form and my old card .\\nB: Very good . You can pick up your order in <MASK> .\\nA: Now that I think of it , three days is better than seven .\\nB: We can do that , but you'll have to pay a little extra .\",\n",
       "  'options': ['one week', 'three days', '2 months'],\n",
       "  'labels': ['yes', 'no', 'no']},\n",
       " {'qid': '16_1_3',\n",
       "  'context': \"A:I need to get some business cards printed up .\\nB: Do you know how many you need ?\\nA: I think I can get by with 2,000 .\\nB: We can get started as soon as you fill out this form .\\nA: I hope you can make the new cards just like my old cards .\\nB: You won't be able to tell the difference with a magnifying glass .\\nA: ... Okay , I'm through . Here's the form and my old card .\\nB: Very good . You can pick up your order in <MASK> .\\nA: Now that I think of it , three days is better than seven .\\nB: We can do that , but you'll have to pay a little extra .\",\n",
       "  'option': 'one week',\n",
       "  'label': 'yes'})"
      ]
     },
     "execution_count": 5,
     "metadata": {},
     "output_type": "execute_result"
    }
   ],
   "source": [
    "l2_datas[0], \\\n",
    "    l1_datas[0]"
   ]
  },
  {
   "cell_type": "code",
   "execution_count": 6,
   "metadata": {},
   "outputs": [
    {
     "name": "stdout",
     "output_type": "stream",
     "text": [
      "A:I need to get some business cards printed up .\n",
      "B: Do you know how many you need ?\n",
      "A: I think I can get by with 2,000 .\n",
      "B: We can get started as soon as you fill out this form .\n",
      "A: I hope you can make the new cards just like my old cards .\n",
      "B: You won't be able to tell the difference with a magnifying glass .\n",
      "A: ... Okay , I'm through . Here's the form and my old card .\n",
      "B: Very good . You can pick up your order in <MASK> .\n",
      "A: Now that I think of it , three days is better than seven .\n",
      "B: We can do that , but you'll have to pay a little extra .\n"
     ]
    }
   ],
   "source": [
    "print(l1_datas[0]['context'])"
   ]
  },
  {
   "cell_type": "code",
   "execution_count": 13,
   "metadata": {},
   "outputs": [],
   "source": [
    "prompt100 = \"\"\"There is a two-person dialogue with several options.\n",
    "Choose all appropriate options to substitute the <mask> in the dialogue.\n",
    "\n",
    "dialogue: {}\n",
    "options: {}\n",
    "answer: \n",
    "\"\"\""
   ]
  },
  {
   "cell_type": "code",
   "execution_count": 15,
   "metadata": {},
   "outputs": [
    {
     "data": {
      "text/plain": [
       "(['A. fifteen PM\\nB. thirty PM'],\n",
       " 'A. fifteen PM\\nB. thirty PM\\nC. two AM\\nD. four AM',\n",
       " ['yes', 'yes', 'no', 'no'])"
      ]
     },
     "execution_count": 15,
     "metadata": {},
     "output_type": "execute_result"
    }
   ],
   "source": [
    "N = 1\n",
    "data = l2_datas[N]\n",
    "context = data['context']\n",
    "options = convert_options_to_options(data['options'])\n",
    "labels = data['labels']\n",
    "gpt_decoder(prompt100.format(context, options)), options, labels"
   ]
  },
  {
   "cell_type": "code",
   "execution_count": 14,
   "metadata": {},
   "outputs": [
    {
     "data": {
      "text/plain": [
       "'There is a two-person dialogue with several options.\\nChoose all appropriate options to substitute the <mask> in the dialogue.\\n\\ndialogue: A:Hello , this is Francis from XYZ Company . I would like to discuss with you about a new project some time next week . Do you have time to meet ?\\nB: Well , I am not sure . Lets me check my agenda\\nA: Ok .\\nB: I am free on Tuesday afternoon from 2 PM to 4 PM , is it convenient for you ?\\nA: It is ok with me . So I will be arriving at your office around 2 <MASK> . Do you have a projector in your room ? I would like to show you some related charts\\nB: Yes , there is . See you then .\\noptions: A. fifteen PM\\nB. thirty PM\\nC. two AM\\nD. four AM\\nanswer: \\n'"
      ]
     },
     "execution_count": 14,
     "metadata": {},
     "output_type": "execute_result"
    }
   ],
   "source": [
    "prompt100.format(context, options)"
   ]
  },
  {
   "cell_type": "code",
   "execution_count": 16,
   "metadata": {},
   "outputs": [
    {
     "data": {
      "text/plain": [
       "(['B. 9:00 AM to 6:00 PM'],\n",
       " \"A. 10 o'clock in the morning to 2 o'clock in the afternoon\\nB. 9:00 AM to 6:00 PM \\nC. 12:00 AM to 2:00 AM \\nD. 7:00 PM to 9:00 PM \",\n",
       " ['yes', 'yes', 'no', 'no'])"
      ]
     },
     "execution_count": 16,
     "metadata": {},
     "output_type": "execute_result"
    }
   ],
   "source": [
    "N = 5\n",
    "data = l2_datas[N]\n",
    "context = data['context']\n",
    "options = convert_options_to_options(data['options'])\n",
    "labels = data['labels']\n",
    "gpt_decoder(prompt100.format(context, options)), options, labels"
   ]
  },
  {
   "cell_type": "code",
   "execution_count": 17,
   "metadata": {},
   "outputs": [
    {
     "data": {
      "text/plain": [
       "(['C. one week'],\n",
       " 'A. three days\\nB. two days\\nC. one week\\nD. an hour',\n",
       " ['yes', 'yes', 'no', 'no'])"
      ]
     },
     "execution_count": 17,
     "metadata": {},
     "output_type": "execute_result"
    }
   ],
   "source": [
    "N = 10\n",
    "data = l2_datas[N]\n",
    "context = data['context']\n",
    "options = convert_options_to_options(data['options'])\n",
    "labels = data['labels']\n",
    "gpt_decoder(prompt100.format(context, options)), options, labels"
   ]
  },
  {
   "cell_type": "code",
   "execution_count": 18,
   "metadata": {},
   "outputs": [
    {
     "data": {
      "text/plain": [
       "(['A. About three days\\nB. About one day'],\n",
       " 'A. About three days\\nB. About one day\\nC. About 12 months\\nD. About 2 minutes',\n",
       " ['yes', 'yes', 'no', 'no'])"
      ]
     },
     "execution_count": 18,
     "metadata": {},
     "output_type": "execute_result"
    }
   ],
   "source": [
    "N = 25\n",
    "data = l2_datas[N]\n",
    "context = data['context']\n",
    "options = convert_options_to_options(data['options'])\n",
    "labels = data['labels']\n",
    "gpt_decoder(prompt100.format(context, options)), options, labels"
   ]
  },
  {
   "cell_type": "code",
   "execution_count": 19,
   "metadata": {},
   "outputs": [
    {
     "data": {
      "text/plain": [
       "(['A. 2 years\\nB. 3 years'],\n",
       " 'A. 2 years\\nB. 3 years\\nC. 5 days\\nD. 90 years',\n",
       " ['yes', 'yes', 'no', 'no'])"
      ]
     },
     "execution_count": 19,
     "metadata": {},
     "output_type": "execute_result"
    }
   ],
   "source": [
    "N = 131\n",
    "data = l2_datas[N]\n",
    "context = data['context']\n",
    "options = convert_options_to_options(data['options'])\n",
    "labels = data['labels']\n",
    "gpt_decoder(prompt100.format(context, options)), options, labels"
   ]
  },
  {
   "cell_type": "code",
   "execution_count": 29,
   "metadata": {},
   "outputs": [
    {
     "data": {
      "text/plain": [
       "['A', 'B']"
      ]
     },
     "execution_count": 29,
     "metadata": {},
     "output_type": "execute_result"
    }
   ],
   "source": [
    "import re\n",
    "answer = 'A. 2 years\\nB. 3 years'\n",
    "pattern = r'([A-Z]\\.\\s)' #For multi-choices questions with a output format A. xxx, B. xxx\n",
    "answers = re.findall(pattern, answer)\n",
    "answers = list(set(answers)) # de-duplication\n",
    "answers = [a[0] for a in answers]\n",
    "answers = sorted(answers)\n",
    "answers"
   ]
  },
  {
   "cell_type": "code",
   "execution_count": 24,
   "metadata": {},
   "outputs": [
    {
     "data": {
      "text/plain": [
       "['r', ' ', 's', '2', 'y', '\\n', '3', 'A', 'B', '.', 'a', 'e']"
      ]
     },
     "execution_count": 24,
     "metadata": {},
     "output_type": "execute_result"
    }
   ],
   "source": [
    "answers"
   ]
  },
  {
   "cell_type": "code",
   "execution_count": 30,
   "metadata": {},
   "outputs": [],
   "source": [
    "from sklearn.metrics import f1_score"
   ]
  },
  {
   "cell_type": "code",
   "execution_count": 33,
   "metadata": {},
   "outputs": [
    {
     "data": {
      "text/plain": [
       "(0.5, 0.5)"
      ]
     },
     "execution_count": 33,
     "metadata": {},
     "output_type": "execute_result"
    }
   ],
   "source": [
    "f1_score([1,1,0,0], [1,0,1,0], average='macro'), f1_score([1,1,0,0], [1,0,1,0], average='micro')"
   ]
  },
  {
   "cell_type": "code",
   "execution_count": 34,
   "metadata": {},
   "outputs": [
    {
     "data": {
      "text/plain": [
       "(0.5, 0.6666666666666666, 0.5714285714285715)"
      ]
     },
     "execution_count": 34,
     "metadata": {},
     "output_type": "execute_result"
    }
   ],
   "source": [
    "from utils import calculate_f1_torque\n",
    "golden = [1,2,3]\n",
    "pred = [1,3,5,6]\n",
    "calculate_f1_torque(golden, pred)"
   ]
  },
  {
   "cell_type": "code",
   "execution_count": 36,
   "metadata": {},
   "outputs": [
    {
     "data": {
      "text/plain": [
       "(0.5714285714285715, 0.5714285714285714)"
      ]
     },
     "execution_count": 36,
     "metadata": {},
     "output_type": "execute_result"
    }
   ],
   "source": [
    "f1_score([1,1,1,0,0,0,0], [1,0,1,0,1,1,0]), f1_score([1,1,1,0,0,0,0], [1,0,1,0,1,1,0], average='micro')"
   ]
  },
  {
   "cell_type": "code",
   "execution_count": null,
   "metadata": {},
   "outputs": [],
   "source": []
  }
 ],
 "metadata": {
  "kernelspec": {
   "display_name": "base",
   "language": "python",
   "name": "python3"
  },
  "language_info": {
   "codemirror_mode": {
    "name": "ipython",
    "version": 3
   },
   "file_extension": ".py",
   "mimetype": "text/x-python",
   "name": "python",
   "nbconvert_exporter": "python",
   "pygments_lexer": "ipython3",
   "version": "3.9.12"
  }
 },
 "nbformat": 4,
 "nbformat_minor": 2
}
