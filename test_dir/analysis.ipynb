{
 "cells": [
  {
   "cell_type": "code",
   "execution_count": 38,
   "metadata": {},
   "outputs": [
    {
     "data": {
      "text/plain": [
       "['The sun is a star located at the center of our solar system. It is a nearly perfect sphere of hot plasma, primarily composed of hydrogen and helium. The sun is responsible for providing Earth with heat, light, and energy through a process called nuclear fusion, where hydrogen atoms combine to form helium, releasing a tremendous amount of energy in the process. It plays a crucial role in sustaining life on our planet.',\n",
       " 'The sun is a star at the center of our solar system. It is a giant ball of hot, glowing gases, primarily hydrogen and helium. The sun provides light and heat to the Earth, and its energy is essential for supporting life on our planet.',\n",
       " \"The sun is a star located at the center of our solar system. It is a nearly perfect sphere of hot plasma, and it provides the Earth with light, heat, and energy. The sun's immense gravity holds the solar system together, and its energy is produced through a process called nuclear fusion, where hydrogen atoms combine to form helium. The sun is essential for supporting life on Earth and is responsible for driving our planet's weather patterns and climate.\",\n",
       " \"The sun is a star located at the center of our solar system. It is composed mostly of hydrogen and helium and generates energy through nuclear fusion. The sun's energy is essential for life on Earth, providing heat and light, and it also plays a crucial role in the Earth's climate and weather patterns.\",\n",
       " \"The sun is a star located at the center of our solar system. It is a nearly perfect sphere of hot plasma, primarily composed of hydrogen and helium. The sun's immense gravity generates energy through nuclear fusion, converting hydrogen into helium and releasing a tremendous amount of light and heat in the process. It provides Earth with heat, light, and energy necessary for life.\"]"
      ]
     },
     "execution_count": 38,
     "metadata": {},
     "output_type": "execute_result"
    }
   ],
   "source": [
    "import openai\n",
    "import os\n",
    "# os.environ['http_proxy'] = 'http://127.0.0.1:7890'\n",
    "# os.environ['https_proxy'] = 'http://127.0.0.1:7890'\n",
    "openai.api_base = 'https://api.closeai-proxy.xyz/v1'\n",
    "openai.api_key = 'sk-6N0Ow7FjBtZ7ziQBk2LYtXT4P7KmbJQKmSs0WavLdQCx7H2C'\n",
    "\n",
    "from tqdm import tqdm, trange\n",
    "\n",
    "def gpt_decoder(prompt, n=1):\n",
    "    response = openai.ChatCompletion.create(\n",
    "        model=\"gpt-3.5-turbo\",\n",
    "        messages=[\n",
    "            {\"role\": \"system\", \"content\": \"You are a helpful assistant.\"},\n",
    "            {\"role\": \"user\", \"content\": prompt},\n",
    "        ],\n",
    "        n=n,\n",
    "        temperature=0 if n == 1 else 0.7\n",
    "    )\n",
    "    return [response['choices'][i]['message']['content'] for i in range(len(response['choices']))]\n",
    "\n",
    "gpt_decoder(prompt='What is sun? ', n=5)"
   ]
  },
  {
   "cell_type": "code",
   "execution_count": 14,
   "metadata": {},
   "outputs": [],
   "source": [
    "import json\n",
    "def load_json(fp):\n",
    "    with open(fp, 'r', encoding='utf-8') as f:\n",
    "        return [json.loads(d) for d in f]\n",
    "\n",
    "temp_l1_datas = load_json('../TimeBench_processed/TempReason/l1_timebench.jsonl')"
   ]
  },
  {
   "cell_type": "code",
   "execution_count": 15,
   "metadata": {},
   "outputs": [
    {
     "data": {
      "text/plain": [
       "{'question': 'What is the time 4 year and 12 month after May, 1742',\n",
       " 'answer': ['May, 1747'],\n",
       " 'context': ''}"
      ]
     },
     "execution_count": 15,
     "metadata": {},
     "output_type": "execute_result"
    }
   ],
   "source": [
    "temp_l1_datas[0]"
   ]
  },
  {
   "cell_type": "code",
   "execution_count": 24,
   "metadata": {},
   "outputs": [
    {
     "name": "stderr",
     "output_type": "stream",
     "text": [
      " 85%|████████▌ | 17/20 [06:48<01:12, 24.04s/it]\n"
     ]
    },
    {
     "ename": "APIError",
     "evalue": "HTTP code 502 from API (\n<html><head>\n<meta http-equiv=\"content-type\" content=\"text/html;charset=utf-8\">\n<title>502 Server Error</title>\n</head>\n<body text=#000000 bgcolor=#ffffff>\n<h1>Error: Server Error</h1>\n<h2>The server encountered a temporary error and could not complete your request.<p>Please try again in 30 seconds.</h2>\n<h2></h2>\n</body></html>\n)",
     "output_type": "error",
     "traceback": [
      "\u001b[1;31m---------------------------------------------------------------------------\u001b[0m",
      "\u001b[1;31mJSONDecodeError\u001b[0m                           Traceback (most recent call last)",
      "File \u001b[1;32mc:\\Users\\10611\\anaconda3\\lib\\site-packages\\openai\\api_requestor.py:669\u001b[0m, in \u001b[0;36mAPIRequestor._interpret_response_line\u001b[1;34m(self, rbody, rcode, rheaders, stream)\u001b[0m\n\u001b[0;32m    668\u001b[0m \u001b[39mtry\u001b[39;00m:\n\u001b[1;32m--> 669\u001b[0m     data \u001b[39m=\u001b[39m json\u001b[39m.\u001b[39;49mloads(rbody)\n\u001b[0;32m    670\u001b[0m \u001b[39mexcept\u001b[39;00m (JSONDecodeError, \u001b[39mUnicodeDecodeError\u001b[39;00m) \u001b[39mas\u001b[39;00m e:\n",
      "File \u001b[1;32mc:\\Users\\10611\\anaconda3\\lib\\json\\__init__.py:346\u001b[0m, in \u001b[0;36mloads\u001b[1;34m(s, cls, object_hook, parse_float, parse_int, parse_constant, object_pairs_hook, **kw)\u001b[0m\n\u001b[0;32m    343\u001b[0m \u001b[39mif\u001b[39;00m (\u001b[39mcls\u001b[39m \u001b[39mis\u001b[39;00m \u001b[39mNone\u001b[39;00m \u001b[39mand\u001b[39;00m object_hook \u001b[39mis\u001b[39;00m \u001b[39mNone\u001b[39;00m \u001b[39mand\u001b[39;00m\n\u001b[0;32m    344\u001b[0m         parse_int \u001b[39mis\u001b[39;00m \u001b[39mNone\u001b[39;00m \u001b[39mand\u001b[39;00m parse_float \u001b[39mis\u001b[39;00m \u001b[39mNone\u001b[39;00m \u001b[39mand\u001b[39;00m\n\u001b[0;32m    345\u001b[0m         parse_constant \u001b[39mis\u001b[39;00m \u001b[39mNone\u001b[39;00m \u001b[39mand\u001b[39;00m object_pairs_hook \u001b[39mis\u001b[39;00m \u001b[39mNone\u001b[39;00m \u001b[39mand\u001b[39;00m \u001b[39mnot\u001b[39;00m kw):\n\u001b[1;32m--> 346\u001b[0m     \u001b[39mreturn\u001b[39;00m _default_decoder\u001b[39m.\u001b[39;49mdecode(s)\n\u001b[0;32m    347\u001b[0m \u001b[39mif\u001b[39;00m \u001b[39mcls\u001b[39m \u001b[39mis\u001b[39;00m \u001b[39mNone\u001b[39;00m:\n",
      "File \u001b[1;32mc:\\Users\\10611\\anaconda3\\lib\\json\\decoder.py:337\u001b[0m, in \u001b[0;36mJSONDecoder.decode\u001b[1;34m(self, s, _w)\u001b[0m\n\u001b[0;32m    333\u001b[0m \u001b[39m\"\"\"Return the Python representation of ``s`` (a ``str`` instance\u001b[39;00m\n\u001b[0;32m    334\u001b[0m \u001b[39mcontaining a JSON document).\u001b[39;00m\n\u001b[0;32m    335\u001b[0m \n\u001b[0;32m    336\u001b[0m \u001b[39m\"\"\"\u001b[39;00m\n\u001b[1;32m--> 337\u001b[0m obj, end \u001b[39m=\u001b[39m \u001b[39mself\u001b[39;49m\u001b[39m.\u001b[39;49mraw_decode(s, idx\u001b[39m=\u001b[39;49m_w(s, \u001b[39m0\u001b[39;49m)\u001b[39m.\u001b[39;49mend())\n\u001b[0;32m    338\u001b[0m end \u001b[39m=\u001b[39m _w(s, end)\u001b[39m.\u001b[39mend()\n",
      "File \u001b[1;32mc:\\Users\\10611\\anaconda3\\lib\\json\\decoder.py:355\u001b[0m, in \u001b[0;36mJSONDecoder.raw_decode\u001b[1;34m(self, s, idx)\u001b[0m\n\u001b[0;32m    354\u001b[0m \u001b[39mexcept\u001b[39;00m \u001b[39mStopIteration\u001b[39;00m \u001b[39mas\u001b[39;00m err:\n\u001b[1;32m--> 355\u001b[0m     \u001b[39mraise\u001b[39;00m JSONDecodeError(\u001b[39m\"\u001b[39m\u001b[39mExpecting value\u001b[39m\u001b[39m\"\u001b[39m, s, err\u001b[39m.\u001b[39mvalue) \u001b[39mfrom\u001b[39;00m \u001b[39mNone\u001b[39m\n\u001b[0;32m    356\u001b[0m \u001b[39mreturn\u001b[39;00m obj, end\n",
      "\u001b[1;31mJSONDecodeError\u001b[0m: Expecting value: line 2 column 1 (char 1)",
      "\nThe above exception was the direct cause of the following exception:\n",
      "\u001b[1;31mAPIError\u001b[0m                                  Traceback (most recent call last)",
      "\u001b[1;32md:\\Datasets\\TimeBench\\TimeBench\\test_dir\\analysis.ipynb Cell 4\u001b[0m line \u001b[0;36m<cell line: 2>\u001b[1;34m()\u001b[0m\n\u001b[0;32m      <a href='vscode-notebook-cell:/d%3A/Datasets/TimeBench/TimeBench/test_dir/analysis.ipynb#W1sZmlsZQ%3D%3D?line=1'>2</a>\u001b[0m \u001b[39mfor\u001b[39;00m i \u001b[39min\u001b[39;00m trange(\u001b[39m20\u001b[39m,\u001b[39m40\u001b[39m):\n\u001b[0;32m      <a href='vscode-notebook-cell:/d%3A/Datasets/TimeBench/TimeBench/test_dir/analysis.ipynb#W1sZmlsZQ%3D%3D?line=2'>3</a>\u001b[0m     prompt \u001b[39m=\u001b[39m \u001b[39mf\u001b[39m\u001b[39m\"\u001b[39m\u001b[39m{\u001b[39;00mtemp_l1_datas[i][\u001b[39m'\u001b[39m\u001b[39mquestion\u001b[39m\u001b[39m'\u001b[39m]\u001b[39m}\u001b[39;00m\u001b[39m? Let\u001b[39m\u001b[39m'\u001b[39m\u001b[39ms think step by step.\u001b[39m\u001b[39m\"\u001b[39m\n\u001b[1;32m----> <a href='vscode-notebook-cell:/d%3A/Datasets/TimeBench/TimeBench/test_dir/analysis.ipynb#W1sZmlsZQ%3D%3D?line=3'>4</a>\u001b[0m     response \u001b[39m=\u001b[39m openai\u001b[39m.\u001b[39;49mChatCompletion\u001b[39m.\u001b[39;49mcreate(\n\u001b[0;32m      <a href='vscode-notebook-cell:/d%3A/Datasets/TimeBench/TimeBench/test_dir/analysis.ipynb#W1sZmlsZQ%3D%3D?line=4'>5</a>\u001b[0m         model\u001b[39m=\u001b[39;49m\u001b[39m\"\u001b[39;49m\u001b[39mgpt-3.5-turbo\u001b[39;49m\u001b[39m\"\u001b[39;49m,\n\u001b[0;32m      <a href='vscode-notebook-cell:/d%3A/Datasets/TimeBench/TimeBench/test_dir/analysis.ipynb#W1sZmlsZQ%3D%3D?line=5'>6</a>\u001b[0m         messages\u001b[39m=\u001b[39;49m[\n\u001b[0;32m      <a href='vscode-notebook-cell:/d%3A/Datasets/TimeBench/TimeBench/test_dir/analysis.ipynb#W1sZmlsZQ%3D%3D?line=6'>7</a>\u001b[0m             {\u001b[39m\"\u001b[39;49m\u001b[39mrole\u001b[39;49m\u001b[39m\"\u001b[39;49m: \u001b[39m\"\u001b[39;49m\u001b[39msystem\u001b[39;49m\u001b[39m\"\u001b[39;49m, \u001b[39m\"\u001b[39;49m\u001b[39mcontent\u001b[39;49m\u001b[39m\"\u001b[39;49m: \u001b[39m\"\u001b[39;49m\u001b[39mYou are a helpful assistant\u001b[39;49m\u001b[39m\"\u001b[39;49m},\n\u001b[0;32m      <a href='vscode-notebook-cell:/d%3A/Datasets/TimeBench/TimeBench/test_dir/analysis.ipynb#W1sZmlsZQ%3D%3D?line=7'>8</a>\u001b[0m             {\u001b[39m\"\u001b[39;49m\u001b[39mrole\u001b[39;49m\u001b[39m\"\u001b[39;49m: \u001b[39m\"\u001b[39;49m\u001b[39muser\u001b[39;49m\u001b[39m\"\u001b[39;49m, \u001b[39m\"\u001b[39;49m\u001b[39mcontent\u001b[39;49m\u001b[39m\"\u001b[39;49m: prompt},\n\u001b[0;32m      <a href='vscode-notebook-cell:/d%3A/Datasets/TimeBench/TimeBench/test_dir/analysis.ipynb#W1sZmlsZQ%3D%3D?line=8'>9</a>\u001b[0m         ]\n\u001b[0;32m     <a href='vscode-notebook-cell:/d%3A/Datasets/TimeBench/TimeBench/test_dir/analysis.ipynb#W1sZmlsZQ%3D%3D?line=9'>10</a>\u001b[0m     )\n\u001b[0;32m     <a href='vscode-notebook-cell:/d%3A/Datasets/TimeBench/TimeBench/test_dir/analysis.ipynb#W1sZmlsZQ%3D%3D?line=10'>11</a>\u001b[0m     predicts\u001b[39m.\u001b[39mappend(response[\u001b[39m'\u001b[39m\u001b[39mchoices\u001b[39m\u001b[39m'\u001b[39m][\u001b[39m0\u001b[39m][\u001b[39m'\u001b[39m\u001b[39mmessage\u001b[39m\u001b[39m'\u001b[39m][\u001b[39m'\u001b[39m\u001b[39mcontent\u001b[39m\u001b[39m'\u001b[39m])\n\u001b[0;32m     <a href='vscode-notebook-cell:/d%3A/Datasets/TimeBench/TimeBench/test_dir/analysis.ipynb#W1sZmlsZQ%3D%3D?line=11'>12</a>\u001b[0m     labels\u001b[39m.\u001b[39mappend(temp_l1_datas[i][\u001b[39m'\u001b[39m\u001b[39manswer\u001b[39m\u001b[39m'\u001b[39m])\n",
      "File \u001b[1;32mc:\\Users\\10611\\anaconda3\\lib\\site-packages\\openai\\api_resources\\chat_completion.py:25\u001b[0m, in \u001b[0;36mChatCompletion.create\u001b[1;34m(cls, *args, **kwargs)\u001b[0m\n\u001b[0;32m     23\u001b[0m \u001b[39mwhile\u001b[39;00m \u001b[39mTrue\u001b[39;00m:\n\u001b[0;32m     24\u001b[0m     \u001b[39mtry\u001b[39;00m:\n\u001b[1;32m---> 25\u001b[0m         \u001b[39mreturn\u001b[39;00m \u001b[39msuper\u001b[39m()\u001b[39m.\u001b[39mcreate(\u001b[39m*\u001b[39margs, \u001b[39m*\u001b[39m\u001b[39m*\u001b[39mkwargs)\n\u001b[0;32m     26\u001b[0m     \u001b[39mexcept\u001b[39;00m TryAgain \u001b[39mas\u001b[39;00m e:\n\u001b[0;32m     27\u001b[0m         \u001b[39mif\u001b[39;00m timeout \u001b[39mis\u001b[39;00m \u001b[39mnot\u001b[39;00m \u001b[39mNone\u001b[39;00m \u001b[39mand\u001b[39;00m time\u001b[39m.\u001b[39mtime() \u001b[39m>\u001b[39m start \u001b[39m+\u001b[39m timeout:\n",
      "File \u001b[1;32mc:\\Users\\10611\\anaconda3\\lib\\site-packages\\openai\\api_resources\\abstract\\engine_api_resource.py:153\u001b[0m, in \u001b[0;36mEngineAPIResource.create\u001b[1;34m(cls, api_key, api_base, api_type, request_id, api_version, organization, **params)\u001b[0m\n\u001b[0;32m    127\u001b[0m \u001b[39m@classmethod\u001b[39m\n\u001b[0;32m    128\u001b[0m \u001b[39mdef\u001b[39;00m \u001b[39mcreate\u001b[39m(\n\u001b[0;32m    129\u001b[0m     \u001b[39mcls\u001b[39m,\n\u001b[1;32m   (...)\u001b[0m\n\u001b[0;32m    136\u001b[0m     \u001b[39m*\u001b[39m\u001b[39m*\u001b[39mparams,\n\u001b[0;32m    137\u001b[0m ):\n\u001b[0;32m    138\u001b[0m     (\n\u001b[0;32m    139\u001b[0m         deployment_id,\n\u001b[0;32m    140\u001b[0m         engine,\n\u001b[1;32m   (...)\u001b[0m\n\u001b[0;32m    150\u001b[0m         api_key, api_base, api_type, api_version, organization, \u001b[39m*\u001b[39m\u001b[39m*\u001b[39mparams\n\u001b[0;32m    151\u001b[0m     )\n\u001b[1;32m--> 153\u001b[0m     response, _, api_key \u001b[39m=\u001b[39m requestor\u001b[39m.\u001b[39;49mrequest(\n\u001b[0;32m    154\u001b[0m         \u001b[39m\"\u001b[39;49m\u001b[39mpost\u001b[39;49m\u001b[39m\"\u001b[39;49m,\n\u001b[0;32m    155\u001b[0m         url,\n\u001b[0;32m    156\u001b[0m         params\u001b[39m=\u001b[39;49mparams,\n\u001b[0;32m    157\u001b[0m         headers\u001b[39m=\u001b[39;49mheaders,\n\u001b[0;32m    158\u001b[0m         stream\u001b[39m=\u001b[39;49mstream,\n\u001b[0;32m    159\u001b[0m         request_id\u001b[39m=\u001b[39;49mrequest_id,\n\u001b[0;32m    160\u001b[0m         request_timeout\u001b[39m=\u001b[39;49mrequest_timeout,\n\u001b[0;32m    161\u001b[0m     )\n\u001b[0;32m    163\u001b[0m     \u001b[39mif\u001b[39;00m stream:\n\u001b[0;32m    164\u001b[0m         \u001b[39m# must be an iterator\u001b[39;00m\n\u001b[0;32m    165\u001b[0m         \u001b[39massert\u001b[39;00m \u001b[39mnot\u001b[39;00m \u001b[39misinstance\u001b[39m(response, OpenAIResponse)\n",
      "File \u001b[1;32mc:\\Users\\10611\\anaconda3\\lib\\site-packages\\openai\\api_requestor.py:226\u001b[0m, in \u001b[0;36mAPIRequestor.request\u001b[1;34m(self, method, url, params, headers, files, stream, request_id, request_timeout)\u001b[0m\n\u001b[0;32m    205\u001b[0m \u001b[39mdef\u001b[39;00m \u001b[39mrequest\u001b[39m(\n\u001b[0;32m    206\u001b[0m     \u001b[39mself\u001b[39m,\n\u001b[0;32m    207\u001b[0m     method,\n\u001b[1;32m   (...)\u001b[0m\n\u001b[0;32m    214\u001b[0m     request_timeout: Optional[Union[\u001b[39mfloat\u001b[39m, Tuple[\u001b[39mfloat\u001b[39m, \u001b[39mfloat\u001b[39m]]] \u001b[39m=\u001b[39m \u001b[39mNone\u001b[39;00m,\n\u001b[0;32m    215\u001b[0m ) \u001b[39m-\u001b[39m\u001b[39m>\u001b[39m Tuple[Union[OpenAIResponse, Iterator[OpenAIResponse]], \u001b[39mbool\u001b[39m, \u001b[39mstr\u001b[39m]:\n\u001b[0;32m    216\u001b[0m     result \u001b[39m=\u001b[39m \u001b[39mself\u001b[39m\u001b[39m.\u001b[39mrequest_raw(\n\u001b[0;32m    217\u001b[0m         method\u001b[39m.\u001b[39mlower(),\n\u001b[0;32m    218\u001b[0m         url,\n\u001b[1;32m   (...)\u001b[0m\n\u001b[0;32m    224\u001b[0m         request_timeout\u001b[39m=\u001b[39mrequest_timeout,\n\u001b[0;32m    225\u001b[0m     )\n\u001b[1;32m--> 226\u001b[0m     resp, got_stream \u001b[39m=\u001b[39m \u001b[39mself\u001b[39;49m\u001b[39m.\u001b[39;49m_interpret_response(result, stream)\n\u001b[0;32m    227\u001b[0m     \u001b[39mreturn\u001b[39;00m resp, got_stream, \u001b[39mself\u001b[39m\u001b[39m.\u001b[39mapi_key\n",
      "File \u001b[1;32mc:\\Users\\10611\\anaconda3\\lib\\site-packages\\openai\\api_requestor.py:619\u001b[0m, in \u001b[0;36mAPIRequestor._interpret_response\u001b[1;34m(self, result, stream)\u001b[0m\n\u001b[0;32m    611\u001b[0m     \u001b[39mreturn\u001b[39;00m (\n\u001b[0;32m    612\u001b[0m         \u001b[39mself\u001b[39m\u001b[39m.\u001b[39m_interpret_response_line(\n\u001b[0;32m    613\u001b[0m             line, result\u001b[39m.\u001b[39mstatus_code, result\u001b[39m.\u001b[39mheaders, stream\u001b[39m=\u001b[39m\u001b[39mTrue\u001b[39;00m\n\u001b[0;32m    614\u001b[0m         )\n\u001b[0;32m    615\u001b[0m         \u001b[39mfor\u001b[39;00m line \u001b[39min\u001b[39;00m parse_stream(result\u001b[39m.\u001b[39miter_lines())\n\u001b[0;32m    616\u001b[0m     ), \u001b[39mTrue\u001b[39;00m\n\u001b[0;32m    617\u001b[0m \u001b[39melse\u001b[39;00m:\n\u001b[0;32m    618\u001b[0m     \u001b[39mreturn\u001b[39;00m (\n\u001b[1;32m--> 619\u001b[0m         \u001b[39mself\u001b[39;49m\u001b[39m.\u001b[39;49m_interpret_response_line(\n\u001b[0;32m    620\u001b[0m             result\u001b[39m.\u001b[39;49mcontent\u001b[39m.\u001b[39;49mdecode(\u001b[39m\"\u001b[39;49m\u001b[39mutf-8\u001b[39;49m\u001b[39m\"\u001b[39;49m),\n\u001b[0;32m    621\u001b[0m             result\u001b[39m.\u001b[39;49mstatus_code,\n\u001b[0;32m    622\u001b[0m             result\u001b[39m.\u001b[39;49mheaders,\n\u001b[0;32m    623\u001b[0m             stream\u001b[39m=\u001b[39;49m\u001b[39mFalse\u001b[39;49;00m,\n\u001b[0;32m    624\u001b[0m         ),\n\u001b[0;32m    625\u001b[0m         \u001b[39mFalse\u001b[39;00m,\n\u001b[0;32m    626\u001b[0m     )\n",
      "File \u001b[1;32mc:\\Users\\10611\\anaconda3\\lib\\site-packages\\openai\\api_requestor.py:671\u001b[0m, in \u001b[0;36mAPIRequestor._interpret_response_line\u001b[1;34m(self, rbody, rcode, rheaders, stream)\u001b[0m\n\u001b[0;32m    669\u001b[0m     data \u001b[39m=\u001b[39m json\u001b[39m.\u001b[39mloads(rbody)\n\u001b[0;32m    670\u001b[0m \u001b[39mexcept\u001b[39;00m (JSONDecodeError, \u001b[39mUnicodeDecodeError\u001b[39;00m) \u001b[39mas\u001b[39;00m e:\n\u001b[1;32m--> 671\u001b[0m     \u001b[39mraise\u001b[39;00m error\u001b[39m.\u001b[39mAPIError(\n\u001b[0;32m    672\u001b[0m         \u001b[39mf\u001b[39m\u001b[39m\"\u001b[39m\u001b[39mHTTP code \u001b[39m\u001b[39m{\u001b[39;00mrcode\u001b[39m}\u001b[39;00m\u001b[39m from API (\u001b[39m\u001b[39m{\u001b[39;00mrbody\u001b[39m}\u001b[39;00m\u001b[39m)\u001b[39m\u001b[39m\"\u001b[39m, rbody, rcode, headers\u001b[39m=\u001b[39mrheaders\n\u001b[0;32m    673\u001b[0m     ) \u001b[39mfrom\u001b[39;00m \u001b[39me\u001b[39;00m\n\u001b[0;32m    674\u001b[0m resp \u001b[39m=\u001b[39m OpenAIResponse(data, rheaders)\n\u001b[0;32m    675\u001b[0m \u001b[39m# In the future, we might add a \"status\" parameter to errors\u001b[39;00m\n\u001b[0;32m    676\u001b[0m \u001b[39m# to better handle the \"error while streaming\" case.\u001b[39;00m\n",
      "\u001b[1;31mAPIError\u001b[0m: HTTP code 502 from API (\n<html><head>\n<meta http-equiv=\"content-type\" content=\"text/html;charset=utf-8\">\n<title>502 Server Error</title>\n</head>\n<body text=#000000 bgcolor=#ffffff>\n<h1>Error: Server Error</h1>\n<h2>The server encountered a temporary error and could not complete your request.<p>Please try again in 30 seconds.</h2>\n<h2></h2>\n</body></html>\n)"
     ]
    }
   ],
   "source": [
    "predicts, labels = [], []\n",
    "for i in trange(20,40):\n",
    "    prompt = f\"{temp_l1_datas[i]['question']}? Let's think step by step.\"\n",
    "    response = openai.ChatCompletion.create(\n",
    "        model=\"gpt-3.5-turbo\",\n",
    "        messages=[\n",
    "            {\"role\": \"system\", \"content\": \"You are a helpful assistant\"},\n",
    "            {\"role\": \"user\", \"content\": prompt},\n",
    "        ]\n",
    "    )\n",
    "    predicts.append(response['choices'][0]['message']['content'])\n",
    "    labels.append(temp_l1_datas[i]['answer'])\n",
    "\n"
   ]
  },
  {
   "cell_type": "code",
   "execution_count": 25,
   "metadata": {},
   "outputs": [
    {
     "data": {
      "text/plain": [
       "[('Step 1: We need to determine the month that is 5 months after April.\\n\\nStep 2: Adding 5 months to April would give us September.\\n\\nStep 3: We also need to determine the year.\\n\\nStep 4: Given that the initial year is 1492, we need to add 5 months to it.\\n\\nStep 5: Adding 5 months to 1492 would give us the year 1493.\\n\\nStep 6: Putting it together, 5 months after April 1492 is September 1493.',\n",
       "  ['Sep, 1492']),\n",
       " ('To determine the time 1 year after February 1736, we need to break it down step by step.\\n\\nStep 1: Find the date in February 1736.\\nFebruary 1736 has 28 days.\\n\\nStep 2: Add 1 year to February 1736.\\nSince the month of February does not have 29 days in a leap year, we need to account for a potential leap year in 1736. To determine if it is a leap year, we can check if it is divisible by 4. Since 1736 is divisible by 4, it is a leap year.\\n\\nStep 3: Adjust the date accordingly.\\nSince it is a leap year, we add an extra day to the date in February. Therefore, the date 1 year after February 1736 would be March 1, 1737.\\n\\nSo, the time 1 year after February 1736 is March 1, 1737.',\n",
       "  ['Feb, 1737']),\n",
       " (\"Sure! Let's break it down step by step:\\n\\nStep 1: Calculate the number of days in 7 years.\\nTo calculate the number of days in 7 years, we need to know if it is a leap year or a common year.\\n\\n- A leap year is a year that is divisible by 4, except for years that are divisible by 100 but not divisible by 400. In other words, a leap year has 366 days.\\n- A common year has 365 days.\\n\\nSince we are starting from September, we need to account for any leap year that occurs within the 7-year period.\\n\\nTo find out if Sep 1073 is in a leap year, we check if the year is divisible by 4. Since 1073 is not divisible by 4, it is a common year.\\n\\nSo, for the calculations, we assume a common year and set the number of days in a year to 365.\\n\\nNumber of days in 7 years: 7 * 365 = 2555 days\\n\\nStep 2: Calculate the number of days in 1 month.\\nTo calculate the number of days in 1 month, we need to know which month we are in and if it is a regular month or a leap month.\\n\\nWe are starting from September, so we need to count the days in the following months:\\n\\n- September: 30 days\\n- October: 31 days\\n- November: 30 days\\n- December: 31 days\\n- January: 31 days\\n- February: 28 days (since it is not a leap year)\\n- March: 31 days\\n\\nTotal number of days in 1 month: 30 + 31 + 30 + 31 + 31 + 28 + 31 = 212 days\\n\\nStep 3: Add the number of days in 7 years and 1 month to the starting date.\\nStarting from Sep, 1073, add 2555 days (7-year period) and 212 days (1-month period).\\n\\nStep 4: Calculate the new date.\\nTo calculate the new date, we need to convert the total number of days into years, months, and days.\\n\\nSince a year has 365 days and a month has varying days, it is challenging to determine the exact number of years and months.\\n\\nHowever, we can estimate the new date by counting forward from Sep, 1073, starting with the number of days in September.\\n\\n- September: 30 days\\n- October: 31 days\\n- November: 30 days\\n- December: 31 days\\n- January: 31 days\\n- February: 28 days (since it is not a leap year)\\n- March: 31 days\\n\\nSubtract these days from the total number of days: 2555 + 212 - (30 + 31 + 30 + 31 + 31 + 28 + 31) = 2297\\n\\nThis means that the new date will occur 2297 days after Sep, 1073.\\n\\nSince the number of days exceeds 365, we know that there will be at least one year in between.\\n\\nTo find out the exact number of years, we can divide the total number of days by 365:\\n\\n2297 / 365 = 6 years\\n\\nSo, the new date will occur 6 years after Sep, 1073.\\n\\nWe are left with 2297 - (6 years * 365 days) = 17 days.\\n\\nThis means that the new date will also have 17 additional days after the 6th year.\\n\\nSince we are starting from September, we have:\\n\\n- September: 30 days\\n- October: 31 days\\n- November: 30 days\\n- December: 31 days\\n- January: 31 days\\n- February: 28 days (since it is not a leap year)\\n- March: 31 days\\n- April: 30 days\\n- May: 31 days\\n- June: 30 days\\n- July: 31 days\\n- August: 31 days\\n- September: 17 days (the remaining days)\\n\\nSo, the new date will fall on September 17, 1080, which is 7 years and 1 month after Sep, 1073.\",\n",
       "  ['Oct, 1080']),\n",
       " (\"Sure, let's break it down step by step.\\n\\nFirst, we need to determine the number of months in 6 years. Since there are 12 months in a year, 6 years would be equal to 6 * 12 = 72 months.\\n\\nNext, we add the 7 months to the previous total. 72 months + 7 months = 79 months.\\n\\nNow, we need to add the 79 months to the starting date of September 1552.\\n\\nStarting with September 1552, we count 79 months ahead. \\n\\nSeptember 1552 + 79 months = ?\\n\\nTo add the months, we can break it down into years and months. Since there are 12 months in a year, we divide 79 by 12 to find out how many years are included in these 79 months.\\n\\n79 months ÷ 12 months/year = 6 years and 7 months remaining.\\n\\nSo, in terms of years, it will be 1552 + 6 = 1558.\\n\\nFor the remaining 7 months, we add them to September 1558.\\n\\nSeptember 1558 + 7 months = ?\\n\\nCounting the months from September 1558, we find the month of April 1559.\\n\\nTherefore, 6 years and 7 months after September 1552 is April 1559.\\n\\nPlease note that this calculation assumes a simple and consistent calendar system with 12 months in a year.\",\n",
       "  ['Apr, 1559']),\n",
       " ('Step 1: Determine the number of days in 9 years\\n\\nIn a non-leap year, there are 365 days. We need to calculate the number of days in 9 years. \\n\\nSince there are no leap years mentioned, we assume that these 9 years are normal years. \\n\\n365 days/year * 9 years = 3285 days\\n\\nStep 2: Determine the number of days in 1 month\\n\\nTo determine the number of days in 1 month, we need to know which month is being referred to. Could you please specify the month?\\n\\n',\n",
       "  ['Feb, 1372']),\n",
       " ('Step 1: Find the number of months in 7 years.\\n7 years x 12 months/year = 84 months\\n\\nStep 2: Add 4 months to the total.\\n84 months + 4 months = 88 months\\n\\nStep 3: Find the number of years and the remaining months.\\nDivide the total number of months by 12 to find the number of years.\\n88 months ÷ 12 = 7 years (with a remainder of 4 months)\\n\\nStep 4: Add the calculated years and months to the starting date.\\nDec, 1576 + 7 years = Dec, 1583\\nDec, 1583 + 4 months = Apr, 1584\\n\\nTherefore, the time 7 years and 4 months after Dec, 1576 is April 1584.',\n",
       "  ['Apr, 1584']),\n",
       " (\"First, let's calculate the number of months in 2 years. Since there are 12 months in a year, 2 years is equal to 2 * 12 = 24 months.\\n\\nNext, let's calculate the total number of months including the additional 3 months. So, the total number of months is 24 + 3 = 27.\\n\\nNow, we can add the total number of months to the starting month, which is October. Since October is the 10th month of the year, we add 27 to 10, resulting in 37.\\n\\nHowever, 37 is greater than the total number of months in a year (12), so we need to adjust it.\\n\\nSubtracting 12 from 37, we get 37 - 12 = 25.\\n\\nThis means that 2 years and 3 months after October 1903 is in the month of November in the year 1905.\\n\\nTherefore, the time 2 years and 3 months after October 1903 is November 1905.\",\n",
       "  ['Jan, 1906']),\n",
       " ('To determine the time 10 years and 1 month after January 1466, we will break it down step by step:\\n\\nStep 1: Start with January 1466 as the initial date.\\n\\nStep 2: Add 1 year, which brings us to January 1467.\\n\\nStep 3: Add 9 more years, which brings us to January 1476.\\n\\nStep 4: Add 1 month, which brings us to February 1476.\\n\\nTherefore, the time 10 years and 1 month after January 1466 is February 1476.',\n",
       "  ['Feb, 1476']),\n",
       " (\"First, let's determine the current year after adding 2 years to Mar, 1231.\\n\\nMarch 1231 + 2 years = March 1233\\n\\nNext, let's determine the current month after adding 10 months to March.\\n\\nMarch + 10 months = January\\n\\nFinally, we can determine the final date.\\n\\nThe time 2 years and 10 months after March 1231 is January 1234.\",\n",
       "  ['Jan, 1234']),\n",
       " ('Step 1: Convert 4 years and 9 months into months.\\n\\n4 years = 4 * 12 = 48 months\\n\\nStep 2: Add 48 months + 9 months = 57 months\\n\\nStep 3: Add 57 months to the starting month.\\n\\nFeb, 1034 + 57 months = May, 1079\\n\\nTherefore, the time 4 years and 9 months after Feb, 1034 is May, 1079.',\n",
       "  ['Nov, 1038']),\n",
       " ('To find the time 4 years and 10 months after May 1785, we can start by adding 4 years to May 1785.\\n\\nMay 1785 + 4 years = May 1789\\n\\nNext, we add 10 months to May 1789.\\n\\nMay 1789 + 10 months = March 1790\\n\\nSo, the time 4 years and 10 months after May 1785 is March 1790.',\n",
       "  ['Mar, 1790']),\n",
       " (\"Sure! Let's break it down step by step:\\n\\n1. Start with August 1021 as our starting point.\\n\\n2. Add 9 years to August 1021. This takes us to August 1030.\\n\\n3. Add 3 months to August 1030. This takes us to November 1030.\\n\\nSo, 9 years and 3 months after August 1021 is November 1030.\",\n",
       "  ['Nov, 1030']),\n",
       " (\"Sure! Let's break it down step by step:\\n\\n1. Start with the given date: October 1061.\\n2. First, calculate the time after one year. \\n   - Add 1 to the year: October 1061 + 1 year = October 1062.\\n3. Next, calculate the time after seven months.\\n   - Add 7 to the month: October 1062 + 7 months = May 1063.\\n4. Therefore, one year and seven months after October 1061 is May 1063.\",\n",
       "  ['May, 1063']),\n",
       " (\"To find the time 8 years and 6 months after November 1360, we need to add 8 years and 6 months to the given date.\\n\\nFirst, let's calculate the year. 8 years after 1360 will be 1360 + 8 = 1368.\\n\\nNow, let's calculate the month. Adding 6 months to November gives us November + 6 = May.\\n\\nTherefore, the time 8 years and 6 months after November 1360 is May 1368.\",\n",
       "  ['May, 1369']),\n",
       " ('Step 1: Determine the number of months in 8 years and 5 months.\\nTo find the number of months, multiply the number of years by 12 and add the number of additional months. \\n8 years multiplied by 12 months/year equals 96 months.\\nAdding 5 months gives us a total of 101 months.\\n\\nStep 2: Calculate the new date by adding the number of months to the initial date.\\nStarting with September 1749, we will add 101 months.\\nSince there are 12 months in a year, we can group the total months into years by dividing by 12.\\n101 months divided by 12 months/year is equal to 8 years and 5 months.\\n\\nAdding 8 years to 1749 gives us 1757, and adding 5 months to September gives us February.\\n\\nTherefore, 8 years and 5 months after September 1749 is February 1757.',\n",
       "  ['Feb, 1758']),\n",
       " (\"Sure, let's break it down step by step.\\n\\nFirst, let's handle the years. We need to add 10 years to 1802. That would be 1802 + 10 = 1812.\\n\\nNext, let's consider the months. We need to add 2 months to September. Since September is the 9th month, adding 2 months would take us to the 11th month, which is November.\\n\\nSo, 10 years and 2 months after September 1802 is November 1812.\",\n",
       "  ['Nov, 1812']),\n",
       " ('Step 1: Calculate the number of days in 4 years.\\n\\nSince there are 365 days in a non-leap year and 366 days in a leap year, we need to determine if the year in question (1971 + 4) is a leap year.\\n\\nTo determine if a year is a leap year, it must be divisible by 4. If it is divisible by 100, it is not a leap year unless it is also divisible by 400.\\n\\n1971 + 4 = 1975\\n\\n1975 is not divisible by 4, so it is not a leap year. Therefore, we can assume there are 365 days in each year.\\n\\n4 years = 4 * 365 = 1460 days\\n\\nStep 2: Calculate the number of days in 8 months.\\n\\nSince the number of days in each month can vary, we need to consider the number of days in each month after February.\\n\\nThere are 7 months (March to September) with 31 days and 1 month (October) with 30 days. Therefore, there are 7 * 31 + 30 = 217 days in 8 months.\\n\\nStep 3: Add the calculated number of days to the starting date.\\n\\nThe starting date is February 1971. Since this month has 28 days, we add 28 days to the total number of days calculated.\\n\\n1460 days + 217 days + 28 days = 1705 days\\n\\nStep 4: Convert the total days into years and months.\\n\\nDivide the total number of days (1705) by the average number of days in a year (365.25) to get the years.\\n\\n1705 days / 365.25 days/year = 4.6646 years\\n\\nSince we are interested in the number of years and months after February 1971, we consider only the whole number of years and months.\\n\\n4 years + 0 months = 4 years and 0 months\\n\\nTherefore, 4 years and 8 months after February 1971 is June 1975.',\n",
       "  ['Oct, 1975'])]"
      ]
     },
     "execution_count": 25,
     "metadata": {},
     "output_type": "execute_result"
    }
   ],
   "source": [
    "[(p, a) for p, a in zip(predicts, labels)]"
   ]
  },
  {
   "cell_type": "code",
   "execution_count": 26,
   "metadata": {},
   "outputs": [
    {
     "data": {
      "text/plain": [
       "'Step 1: We need to determine the month that is 5 months after April.\\n\\nStep 2: Adding 5 months to April would give us September.\\n\\nStep 3: We also need to determine the year.\\n\\nStep 4: Given that the initial year is 1492, we need to add 5 months to it.\\n\\nStep 5: Adding 5 months to 1492 would give us the year 1493.\\n\\nStep 6: Putting it together, 5 months after April 1492 is September 1493.'"
      ]
     },
     "execution_count": 26,
     "metadata": {},
     "output_type": "execute_result"
    }
   ],
   "source": [
    "'Step 1: We need to determine the month that is 5 months after April.\\n\\nStep 2: Adding 5 months to April would give us September.\\n\\nStep 3: We also need to determine the year.\\n\\nStep 4: Given that the initial year is 1492, we need to add 5 months to it.\\n\\nStep 5: Adding 5 months to 1492 would give us the year 1493.\\n\\nStep 6: Putting it together, 5 months after April 1492 is September 1493.'"
   ]
  },
  {
   "cell_type": "code",
   "execution_count": 27,
   "metadata": {},
   "outputs": [],
   "source": [
    "response = openai.ChatCompletion.create(\n",
    "        model=\"gpt-3.5-turbo\",\n",
    "        messages=[\n",
    "            {\"role\": \"system\", \"content\": \"You are a helpful assistant\"},\n",
    "            {\"role\": \"user\", \"content\": 'Step 1: We need to determine the month that is 5 months after April.\\n\\nStep 2: Adding 5 months to April would give us September.\\n\\nStep 3: We also need to determine the year.\\n\\nStep 4: Given that the initial year is 1492, we need to add 5 months to it.\\n\\nStep 5: Adding 5 months to 1492 would give us the year 1493.\\n\\nStep 6: Putting it together, 5 months after April 1492 is September 1493. Therefore, the answer is'},\n",
    "        ]\n",
    "    )"
   ]
  },
  {
   "cell_type": "code",
   "execution_count": 28,
   "metadata": {},
   "outputs": [
    {
     "data": {
      "text/plain": [
       "<OpenAIObject chat.completion id=chatcmpl-F3tIp3JV4u6ZRkSMAUFSSObZz7fpO at 0x1d1383d9090> JSON: {\n",
       "  \"choices\": [\n",
       "    {\n",
       "      \"finish_reason\": \"stop\",\n",
       "      \"index\": 0,\n",
       "      \"message\": {\n",
       "        \"content\": \"September 1493\",\n",
       "        \"role\": \"assistant\"\n",
       "      }\n",
       "    }\n",
       "  ],\n",
       "  \"created\": 1698753459,\n",
       "  \"id\": \"chatcmpl-F3tIp3JV4u6ZRkSMAUFSSObZz7fpO\",\n",
       "  \"model\": \"gpt-3.5-turbo-0613\",\n",
       "  \"object\": \"chat.completion\",\n",
       "  \"usage\": {\n",
       "    \"completion_tokens\": 4,\n",
       "    \"prompt_tokens\": 133,\n",
       "    \"total_tokens\": 137\n",
       "  }\n",
       "}"
      ]
     },
     "execution_count": 28,
     "metadata": {},
     "output_type": "execute_result"
    }
   ],
   "source": [
    "response"
   ]
  },
  {
   "cell_type": "code",
   "execution_count": null,
   "metadata": {},
   "outputs": [],
   "source": []
  }
 ],
 "metadata": {
  "kernelspec": {
   "display_name": "base",
   "language": "python",
   "name": "python3"
  },
  "language_info": {
   "codemirror_mode": {
    "name": "ipython",
    "version": 3
   },
   "file_extension": ".py",
   "mimetype": "text/x-python",
   "name": "python",
   "nbconvert_exporter": "python",
   "pygments_lexer": "ipython3",
   "version": "3.9.12"
  }
 },
 "nbformat": 4,
 "nbformat_minor": 2
}
