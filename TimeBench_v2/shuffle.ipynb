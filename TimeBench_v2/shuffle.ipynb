{
 "cells": [
  {
   "cell_type": "code",
   "execution_count": 2,
   "metadata": {},
   "outputs": [],
   "source": [
    "import json\n",
    "import random\n",
    "def load(fp):\n",
    "    with open(fp, 'r', encoding='utf-8') as f:\n",
    "        datas = f.readlines()\n",
    "        random.shuffle(datas)\n",
    "    return datas\n",
    "\n",
    "def write(fp, datas):\n",
    "    with open(fp, 'w', encoding='utf-8') as f:\n",
    "        for line in datas:\n",
    "            f.write(line)\n",
    "\n",
    "def shuffle(fin, fout):\n",
    "    shuf_datas = load(fin)\n",
    "    write(fout, shuf_datas)\n"
   ]
  },
  {
   "cell_type": "code",
   "execution_count": 3,
   "metadata": {},
   "outputs": [],
   "source": [
    "fin = \"./TimeQA/timeqa_easy_timebench.jsonl\"\n",
    "fout = \"./TimeQA/timeqa_easy_timebench_shuffle.jsonl\"\n",
    "shuffle(fin, fout)"
   ]
  },
  {
   "cell_type": "code",
   "execution_count": 4,
   "metadata": {},
   "outputs": [],
   "source": [
    "fin = \"./TimeQA/timeqa_hard_timebench.jsonl\"\n",
    "fout = \"./TimeQA/timeqa_hard_timebench_shuffle.jsonl\"\n",
    "shuffle(fin, fout)"
   ]
  },
  {
   "cell_type": "code",
   "execution_count": 5,
   "metadata": {},
   "outputs": [],
   "source": [
    "fin = \"./TempReason/l1_timebench.jsonl\"\n",
    "fout = \"./TempReason/l1_timebench.jsonl.shuffle\"\n",
    "shuffle(fin, fout)"
   ]
  },
  {
   "cell_type": "code",
   "execution_count": null,
   "metadata": {},
   "outputs": [],
   "source": [
    "fin = \"./TempReason/l2l3_timebench.jsonl\"\n",
    "fout = \"./TempReason/l1_timebench.jsonl.shuffle\"\n",
    "shuffle(fin, fout)"
   ]
  }
 ],
 "metadata": {
  "kernelspec": {
   "display_name": "base",
   "language": "python",
   "name": "python3"
  },
  "language_info": {
   "codemirror_mode": {
    "name": "ipython",
    "version": 3
   },
   "file_extension": ".py",
   "mimetype": "text/x-python",
   "name": "python",
   "nbconvert_exporter": "python",
   "pygments_lexer": "ipython3",
   "version": "3.9.12"
  }
 },
 "nbformat": 4,
 "nbformat_minor": 2
}
