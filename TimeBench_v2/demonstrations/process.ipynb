{
 "cells": [
  {
   "cell_type": "code",
   "execution_count": 21,
   "metadata": {},
   "outputs": [],
   "source": [
    "import json\n",
    "fout = 'demonstrations.json'\n",
    "def convert_yesno_to_options(reference):\n",
    "        \"\"\"[yes, no, yes] -> [A, C]\"\"\"\n",
    "        choices = []\n",
    "        for i, option in enumerate(reference):\n",
    "            if option == 'yes':\n",
    "                choices.append(\n",
    "                    chr(ord('A') + i)\n",
    "                )\n",
    "        return choices\n",
    "\n",
    "def construct_multi_choices(options):\n",
    "    return ([chr(ord('A') + i) + '. ' + o for i, o in enumerate(options)])\n",
    "\n",
    "\n",
    "def construct_answer(reference, options):\n",
    "    answers = []\n",
    "    options = construct_multi_choices(options)\n",
    "    for r, o in zip(reference, options):\n",
    "        if r == 'yes':\n",
    "            answers.append(o)\n",
    "    return ', '.join(answers)\n",
    "\n",
    "from collections import defaultdict\n",
    "demos_map = defaultdict(list)\n"
   ]
  },
  {
   "cell_type": "code",
   "execution_count": 22,
   "metadata": {},
   "outputs": [],
   "source": [
    "import durationqa as demofile\n",
    "demos = demofile.demonstrations\n",
    "format = \"\"\"Context: {}\n",
    "Question: {}\n",
    "Options: {}\n",
    "Answer: {}\"\"\"\n",
    "demos2 = [[dd['context'], dd['question'], '  '.join(construct_multi_choices(dd['options'])), construct_answer(dd['labels'], dd['options'])] for dd in demos]\n",
    "demos3 = [format.format(*i) for i in demos2]\n",
    "demos_map['durationqa'] = demos3\n",
    "\n",
    "demos_cot = demofile.demonstrations_cot\n",
    "demos2_cot = [[dd['context'], dd['question'], '  '.join(construct_multi_choices(dd['options'])), dd['cot']] for dd in demos_cot]\n",
    "demos3_cot = [format.format(*i) for i in demos2_cot]\n",
    "demos_map['durationqa_cot'] = demos3_cot"
   ]
  },
  {
   "cell_type": "code",
   "execution_count": 23,
   "metadata": {},
   "outputs": [],
   "source": [
    "import mctaco as demofile\n",
    "demos = demofile.demonstrations\n",
    "format = \"\"\"Context: {}\n",
    "Question: {}\n",
    "Options: {}\n",
    "Answer: {}\"\"\"\n",
    "demos2 = [[dd['context'], dd['question'], '  '.join(construct_multi_choices(dd['options'])), construct_answer(dd['labels'], dd['options'])] for dd in demos]\n",
    "demos3 = [format.format(*i) for i in demos2]\n",
    "demos_map['mctaco'] = demos3\n",
    "\n",
    "demos_cot = demofile.demonstrations_cot\n",
    "demos2_cot = [[dd['context'], dd['question'], '  '.join(construct_multi_choices(dd['options'])), dd['cot']] for dd in demos_cot]\n",
    "demos3_cot = [format.format(*i) for i in demos2_cot]\n",
    "demos_map['mctaco_cot'] = demos3_cot"
   ]
  },
  {
   "cell_type": "code",
   "execution_count": 24,
   "metadata": {},
   "outputs": [],
   "source": [
    "import timedial as demofile\n",
    "demos = demofile.demonstrations\n",
    "format = \"\"\"Dialogue: {}\n",
    "Options: {}\n",
    "Answer: {}\"\"\"\n",
    "demos2 = [[dd['context'].strip(),  '  '.join(construct_multi_choices(dd['options'])), construct_answer(dd['labels'], dd['options'])] for dd in demos]\n",
    "demos3 = [format.format(*i) for i in demos2]\n",
    "demos_map['timedial'] = demos3\n",
    "\n",
    "demos_cot = demofile.demonstrations_cot\n",
    "demos2_cot = [[dd['context'].strip(),  '  '.join(construct_multi_choices(dd['options'])), dd['cot']] for dd in demos_cot]\n",
    "demos3_cot = [format.format(*i) for i in demos2_cot]\n",
    "demos_map['timedial_cot'] = demos3_cot"
   ]
  },
  {
   "cell_type": "code",
   "execution_count": 25,
   "metadata": {},
   "outputs": [],
   "source": [
    "import situatedgen\n",
    "demos = situatedgen.demonstrations\n",
    "format = \"\"\"Keywords: {}\n",
    "Sentence1: {}\n",
    "Sentence2: {}\"\"\"\n",
    "demos = [[', '.join(dd['keywords']), dd['statements'][0], dd['statements'][1]] for dd in demos]\n",
    "demos = [format.format(*i) for i in demos]\n",
    "demos_map['situatedgen'] = demos"
   ]
  },
  {
   "cell_type": "code",
   "execution_count": 26,
   "metadata": {},
   "outputs": [],
   "source": [
    "import timebank as demofile\n",
    "demos = demofile.demonstrations\n",
    "format = \"\"\"Event A: {}\n",
    "Event B: {}\n",
    "Options: A. BEFORE  B. AFTER\n",
    "Answer: {}\"\"\"\n",
    "demos2 = [[dd['Premise'], dd['Hypothesis'], dd['Label']] for dd in demos]\n",
    "demos3 = [format.format(*i) for i in demos2]\n",
    "demos_map['timebank'] = demos3\n",
    "\n",
    "demos_cot = demofile.demonstrations_cot\n",
    "demos2_cot = [[dd['Premise'], dd['Hypothesis'], dd['cot']] for dd in demos_cot]\n",
    "demos3_cot = [format.format(*i) for i in demos2_cot]\n",
    "demos_map['timebank_cot'] = demos3_cot"
   ]
  },
  {
   "cell_type": "code",
   "execution_count": 27,
   "metadata": {},
   "outputs": [],
   "source": [
    "import timexnli as demofile\n",
    "demos = demofile.demonstrations_cs1\n",
    "format = \"\"\"Premise: {}\n",
    "Hypothesis: {}\n",
    "Options: A. Entailment  B. Contradiction  C. Neutral\n",
    "Answer: {}\"\"\"\n",
    "demos2 = [[dd['Premise'], dd['Hypothesis'], dd['Label']] for dd in demos]\n",
    "demos3 = [format.format(*i) for i in demos2]\n",
    "demos_map['timexnli_cs1'] = demos3\n",
    "\n",
    "demos_cot = demofile.demonstrations_cs1_cot\n",
    "demos2_cot = [[dd['Premise'], dd['Hypothesis'], dd['cot']] for dd in demos_cot]\n",
    "demos3_cot = [format.format(*i) for i in demos2_cot]\n",
    "demos_map['timexnli_cs1_cot'] = demos3_cot"
   ]
  },
  {
   "cell_type": "code",
   "execution_count": 28,
   "metadata": {},
   "outputs": [],
   "source": [
    "import timexnli as demofile\n",
    "demos = demofile.demonstrations_cs2\n",
    "format = \"\"\"Premise: {}\n",
    "Hypothesis: {}\n",
    "Options: A. Entailment  B. Contradiction\n",
    "Answer: {}\"\"\"\n",
    "demos2 = [[dd['Premise'], dd['Hypothesis'], dd['Label']] for dd in demos]\n",
    "demos3 = [format.format(*i) for i in demos2]\n",
    "demos_map['timexnli_cs2'] = demos3\n",
    "\n",
    "demos_cot = demofile.demonstrations_cs2_cot\n",
    "demos2_cot = [[dd['Premise'], dd['Hypothesis'], dd['cot']] for dd in demos_cot]\n",
    "demos3_cot = [format.format(*i) for i in demos2_cot]\n",
    "demos_map['timexnli_cs2_cot'] = demos3_cot"
   ]
  },
  {
   "cell_type": "code",
   "execution_count": 29,
   "metadata": {},
   "outputs": [],
   "source": [
    "import timexnli as demofile\n",
    "demos = demofile.demonstrations_cs3\n",
    "format = \"\"\"Premise: {}\n",
    "Hypothesis: {}\n",
    "Options: A. Entailment  B. Contradiction  C. Neutral\n",
    "Answer: {}\"\"\"\n",
    "demos2 = [[dd['Premise'], dd['Hypothesis'], dd['Label']] for dd in demos]\n",
    "demos3 = [format.format(*i) for i in demos2]\n",
    "demos_map['timexnli_cs3'] = demos3\n",
    "\n",
    "demos_cot = demofile.demonstrations_cs3_cot\n",
    "demos2_cot = [[dd['Premise'], dd['Hypothesis'], dd['cot']] for dd in demos_cot]\n",
    "demos3_cot = [format.format(*i) for i in demos2_cot]\n",
    "demos_map['timexnli_cs3_cot'] = demos3_cot"
   ]
  },
  {
   "cell_type": "code",
   "execution_count": 30,
   "metadata": {},
   "outputs": [],
   "source": [
    "import tracie as demofile\n",
    "demos = demofile.demonstrations\n",
    "format = \"\"\"Story: {}\n",
    "Hypothesis: {}\n",
    "Options: A. Entailment  B. Contradiction\n",
    "Answer: {}\"\"\"\n",
    "demos2 = [[dd['Premise'], dd['Hypothesis'], dd['Label']] for dd in demos]\n",
    "demos3 = [format.format(*i) for i in demos2]\n",
    "demos_map['tracie'] = demos3\n",
    "\n",
    "demos_cot = demofile.demonstrations_cot\n",
    "demos2_cot = [[dd['Premise'], dd['Hypothesis'], dd['cot']] for dd in demos_cot]\n",
    "demos3_cot = [format.format(*i) for i in demos2_cot]\n",
    "demos_map['tracie_cot'] = demos3_cot"
   ]
  },
  {
   "cell_type": "code",
   "execution_count": 31,
   "metadata": {},
   "outputs": [],
   "source": [
    "import torque as demofile\n",
    "demos = demofile.demonstrations\n",
    "format = \"\"\"Passage: {}\n",
    "Question: {}\n",
    "Answer: {}\"\"\"\n",
    "demos2 = [[dd['passage'], dd['question'], ', '.join(dd['answer'])] for dd in demos]\n",
    "demos3 = [format.format(*i) for i in demos2]\n",
    "demos_map['torque'] = demos3\n",
    "\n",
    "demos_cot = demofile.demonstrations_cot\n",
    "demos2_cot = [[dd['passage'], dd['question'], dd['cot']] for dd in demos_cot]\n",
    "demos3_cot = [format.format(*i) for i in demos2_cot]\n",
    "demos_map['torque_cot'] = demos3_cot"
   ]
  },
  {
   "cell_type": "code",
   "execution_count": 32,
   "metadata": {},
   "outputs": [],
   "source": [
    "import menatqa as demofile\n",
    "demos = demofile.demonstrations\n",
    "format = \"\"\"Context: {}\n",
    "Question: {}\n",
    "Answer: {}\"\"\"\n",
    "demos2 = [[dd['context'], dd['question'], dd['targets'][0]] for dd in demos]\n",
    "demos3 = [format.format(*i) for i in demos2]\n",
    "demos_map['menatqa'] = demos3\n",
    "\n",
    "demos_cot = demofile.demonstrations_cot\n",
    "demos2_cot = [[dd['context'], dd['question'], dd['cot']] for dd in demos_cot]\n",
    "demos3_cot = [format.format(*i) for i in demos2_cot]\n",
    "demos_map['menatqa_cot'] = demos3_cot"
   ]
  },
  {
   "cell_type": "code",
   "execution_count": 33,
   "metadata": {},
   "outputs": [],
   "source": [
    "import timeqa as demofile\n",
    "demos = demofile.demonstrations_easy\n",
    "format = \"\"\"Context: {}\n",
    "Question: {}\n",
    "Answer: {}\"\"\"\n",
    "demos2 = [[dd['context'], dd['question'], dd['targets'][0]] for dd in demos]\n",
    "demos3 = [format.format(*i) for i in demos2]\n",
    "demos_map['timeqa_easy'] = demos3\n",
    "\n",
    "demos_cot = demofile.demonstrations_easy_cot\n",
    "demos2_cot = [[dd['context'], dd['question'], dd['cot']] for dd in demos_cot]\n",
    "demos3_cot = [format.format(*i) for i in demos2_cot]\n",
    "demos_map['timeqa_easy_cot'] = demos3_cot"
   ]
  },
  {
   "cell_type": "code",
   "execution_count": 34,
   "metadata": {},
   "outputs": [],
   "source": [
    "import timeqa as demofile\n",
    "demos = demofile.demonstrations_hard\n",
    "format = \"\"\"Context: {}\n",
    "Question: {}\n",
    "Answer: {}\"\"\"\n",
    "demos2 = [[dd['context'], dd['question'], dd['targets'][0]] for dd in demos]\n",
    "demos3 = [format.format(*i) for i in demos2]\n",
    "demos_map['timeqa_hard'] = demos3\n",
    "\n",
    "demos_cot = demofile.demonstrations_hard_cot\n",
    "demos2_cot = [[dd['context'], dd['question'], dd['cot']] for dd in demos_cot]\n",
    "demos3_cot = [format.format(*i) for i in demos2_cot]\n",
    "demos_map['timeqa_hard_cot'] = demos3_cot"
   ]
  },
  {
   "cell_type": "code",
   "execution_count": 35,
   "metadata": {},
   "outputs": [],
   "source": [
    "import tempreason as demofile\n",
    "demos = demofile.demonstrations_l2_openbook\n",
    "format = \"\"\"Context: {}\n",
    "Question: {}\n",
    "Answer: {}\"\"\"\n",
    "demos2 = [[dd['context'], dd['question'], dd['text_answers'][\"text\"][0]] for dd in demos]\n",
    "demos3 = [format.format(*i) for i in demos2]\n",
    "demos_map['tempreason_l2o'] = demos3\n",
    "\n",
    "demos_cot = demofile.demonstrations_l2_openbook_cot\n",
    "demos2_cot = [[dd['context'], dd['question'], dd['cot']] for dd in demos_cot]\n",
    "demos3_cot = [format.format(*i) for i in demos2_cot]\n",
    "demos_map['tempreason_l2o_cot'] = demos3_cot"
   ]
  },
  {
   "cell_type": "code",
   "execution_count": 36,
   "metadata": {},
   "outputs": [],
   "source": [
    "import tempreason as demofile\n",
    "demos = demofile.demonstrations_l2_reason\n",
    "format = \"\"\"Context: {}\n",
    "Question: {}\n",
    "Answer: {}\"\"\"\n",
    "demos2 = [[dd['fact_context'], dd['question'], dd['text_answers'][\"text\"][0]] for dd in demos]\n",
    "demos3 = [format.format(*i) for i in demos2]\n",
    "demos_map['tempreason_l2r'] = demos3\n",
    "\n",
    "demos_cot = demofile.demonstrations_l2_reason_cot\n",
    "demos2_cot = [[dd['fact_context'], dd['question'], dd['cot']] for dd in demos_cot]\n",
    "demos3_cot = [format.format(*i) for i in demos2_cot]\n",
    "demos_map['tempreason_l2r_cot'] = demos3_cot"
   ]
  },
  {
   "cell_type": "code",
   "execution_count": 37,
   "metadata": {},
   "outputs": [],
   "source": [
    "import tempreason as demofile\n",
    "demos = demofile.demonstrations_l3_openbook\n",
    "format = \"\"\"Context: {}\n",
    "Question: {}\n",
    "Answer: {}\"\"\"\n",
    "demos2 = [[dd['context'], dd['question'], dd['text_answers'][\"text\"][0]] for dd in demos]\n",
    "demos3 = [format.format(*i) for i in demos2]\n",
    "demos_map['tempreason_l3o'] = demos3\n",
    "\n",
    "demos_cot = demofile.demonstrations_l3_openbook_cot\n",
    "demos2_cot = [[dd['context'], dd['question'], dd['cot']] for dd in demos_cot]\n",
    "demos3_cot = [format.format(*i) for i in demos2_cot]\n",
    "demos_map['tempreason_l3o_cot'] = demos3_cot"
   ]
  },
  {
   "cell_type": "code",
   "execution_count": 38,
   "metadata": {},
   "outputs": [],
   "source": [
    "import tempreason as demofile\n",
    "demos = demofile.demonstrations_l3_reason\n",
    "format = \"\"\"Context: {}\n",
    "Question: {}\n",
    "Answer: {}\"\"\"\n",
    "demos2 = [[dd['fact_context'], dd['question'], dd['text_answers'][\"text\"][0]] for dd in demos]\n",
    "demos3 = [format.format(*i) for i in demos2]\n",
    "demos_map['tempreason_l3r'] = demos3\n",
    "\n",
    "demos_cot = demofile.demonstrations_l2_reason_cot\n",
    "demos2_cot = [[dd['fact_context'], dd['question'], dd['cot']] for dd in demos_cot]\n",
    "demos3_cot = [format.format(*i) for i in demos2_cot]\n",
    "demos_map['tempreason_l3r_cot'] = demos3_cot"
   ]
  },
  {
   "cell_type": "code",
   "execution_count": 39,
   "metadata": {},
   "outputs": [
    {
     "name": "stdout",
     "output_type": "stream",
     "text": [
      "Context: Bernard Moss attended New York University School of Medicine from Jan, 1957 to Jan, 1961. \n",
      "Bernard Moss attended New York University from Jan, 1954 to Jan, 1957. \n",
      "Bernard Moss attended Children's Hospital Boston from Jan, 1961 to Jan, 1962. \n",
      "Bernard Moss attended Massachusetts Institute of Technology from Jan, 1962 to Jan, 1966.\n",
      "Question: Where was Bernard Moss educated after New York University?\n",
      "Answer: New York University School of Medicine\n",
      "\n",
      "Context: Rebecca Hubbard works for Kaiser Permanente Washington Health Research Institute from Jan, 2008 to Jan, 2014. \n",
      " Rebecca Hubbard works for University of Pennsylvania from Jan, 2014 to Dec, 2022. \n",
      " Rebecca Hubbard works for University of Washington from Jan, 2007 to Jan, 2008.\n",
      "Question: Which employer did Rebecca Hubbard work for in Jun, 2015?\n",
      "Answer: According to the context, Rebecca Hubbard works for University of Pennsylvania from Jan, 2014 to Dec, 2022. In Jun 2015, Rebecca Hubbard works for University of Pennsylvania. Therefore, the answer is University of Pennsylvania.\n"
     ]
    },
    {
     "data": {
      "text/plain": [
       "(None, None)"
      ]
     },
     "execution_count": 39,
     "metadata": {},
     "output_type": "execute_result"
    }
   ],
   "source": [
    "print(demos3[0], end='\\n\\n'), print(demos3_cot[0])"
   ]
  },
  {
   "cell_type": "code",
   "execution_count": 40,
   "metadata": {},
   "outputs": [],
   "source": [
    "with open(fout, 'w', encoding='utf-8') as f:\n",
    "    f.write(json.dumps(demos_map, indent=2))"
   ]
  },
  {
   "cell_type": "code",
   "execution_count": null,
   "metadata": {},
   "outputs": [],
   "source": []
  }
 ],
 "metadata": {
  "kernelspec": {
   "display_name": "base",
   "language": "python",
   "name": "python3"
  },
  "language_info": {
   "codemirror_mode": {
    "name": "ipython",
    "version": 3
   },
   "file_extension": ".py",
   "mimetype": "text/x-python",
   "name": "python",
   "nbconvert_exporter": "python",
   "pygments_lexer": "ipython3",
   "version": "3.9.12"
  }
 },
 "nbformat": 4,
 "nbformat_minor": 2
}
